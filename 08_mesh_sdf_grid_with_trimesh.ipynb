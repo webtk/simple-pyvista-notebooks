{
 "cells": [
  {
   "cell_type": "code",
   "execution_count": 1,
   "metadata": {},
   "outputs": [],
   "source": [
    "import pyvista as pv\n",
    "import vtk\n",
    "import numpy as np"
   ]
  },
  {
   "cell_type": "code",
   "execution_count": 2,
   "metadata": {},
   "outputs": [
    {
     "data": {
      "application/vnd.jupyter.widget-view+json": {
       "model_id": "c73648aa6e0944eca684e98470e9ab23",
       "version_major": 2,
       "version_minor": 0
      },
      "text/plain": [
       "Widget(value='<iframe src=\"http://localhost:32915/index.html?ui=P_0x7f402d225930_0&reconnect=auto\" class=\"pyvi…"
      ]
     },
     "metadata": {},
     "output_type": "display_data"
    }
   ],
   "source": [
    "points = np.array([\n",
    "    [0.5, 0.0, 0.0],\n",
    "    [1.0, 0.0, 0.0],\n",
    "    [1.0, 1.0, 0.0],\n",
    "    [0.5, 1.0, 0.0],\n",
    "])\n",
    "\n",
    "# 2) faces 배열 정의\n",
    "#    첫 원소 '4'는 꼭짓점 개수, 그 뒤로 점 인덱스\n",
    "faces = np.hstack([[4, 0, 1, 2, 3]])\n",
    "# 3) PolyData 생성\n",
    "square = pv.PolyData(points, faces)\n",
    "mesh = square.extrude_rotate(\n",
    "    angle=270,\n",
    "    capping=True,\n",
    "    resolution=30,\n",
    "    rotation_axis=(1,0,0)\n",
    ")\n",
    "mesh.plot()"
   ]
  },
  {
   "cell_type": "code",
   "execution_count": 3,
   "metadata": {},
   "outputs": [
    {
     "name": "stdout",
     "output_type": "stream",
     "text": [
      "Help on method plot in module pyvista._plot:\n",
      "\n",
      "plot(off_screen=None, full_screen=None, screenshot=None, interactive=True, cpos=None, window_size=None, show_bounds=False, show_axes=None, notebook=None, background=None, text='', return_img=False, eye_dome_lighting=False, volume=False, parallel_projection=False, jupyter_backend=None, return_viewer=False, return_cpos=False, jupyter_kwargs=None, theme=None, anti_aliasing=None, zoom=None, border=False, border_color='k', border_width=2.0, ssao=False, **kwargs) method of pyvista.core.pointset.PolyData instance\n",
      "    Plot a PyVista, numpy, or vtk object.\n",
      "    \n",
      "    Parameters\n",
      "    ----------\n",
      "    var_item : pyvista.DataSet\n",
      "        See :func:`Plotter.add_mesh <pyvista.Plotter.add_mesh>` for all\n",
      "        supported types.\n",
      "    \n",
      "    off_screen : bool, optional\n",
      "        Plots off screen when ``True``.  Helpful for saving\n",
      "        screenshots without a window popping up.  Defaults to the\n",
      "        global setting ``pyvista.OFF_SCREEN``.\n",
      "    \n",
      "    full_screen : bool, default: :attr:`pyvista.plotting.themes.Theme.full_screen`\n",
      "        Opens window in full screen.  When enabled, ignores\n",
      "        ``window_size``.\n",
      "    \n",
      "    screenshot : str or bool, optional\n",
      "        Saves screenshot to file when enabled.  See:\n",
      "        :func:`Plotter.screenshot() <pyvista.Plotter.screenshot>`.\n",
      "        Default ``False``.\n",
      "    \n",
      "        When ``True``, takes screenshot and returns ``numpy`` array of\n",
      "        image.\n",
      "    \n",
      "    interactive : bool, default: :attr:`pyvista.plotting.themes.Theme.interactive`\n",
      "        Allows user to pan and move figure.\n",
      "    \n",
      "    cpos : list, optional\n",
      "        List of camera position, focal point, and view up.\n",
      "    \n",
      "    window_size : sequence, default: :attr:`pyvista.plotting.themes.Theme.window_size`\n",
      "        Window size in pixels.\n",
      "    \n",
      "    show_bounds : bool, default: False\n",
      "        Shows mesh bounds when ``True``.\n",
      "    \n",
      "    show_axes : bool, default: :attr:`pyvista.plotting.themes._AxesConfig.show`\n",
      "        Shows a vtk axes widget.\n",
      "    \n",
      "    notebook : bool, default: :attr:`pyvista.plotting.themes.Theme.notebook`\n",
      "        When ``True``, the resulting plot is placed inline a jupyter\n",
      "        notebook.  Assumes a jupyter console is active.\n",
      "    \n",
      "    background : ColorLike, default: :attr:`pyvista.plotting.themes.Theme.background`\n",
      "        Color of the background.\n",
      "    \n",
      "    text : str, optional\n",
      "        Adds text at the bottom of the plot.\n",
      "    \n",
      "    return_img : bool, default: False\n",
      "        Returns numpy array of the last image rendered.\n",
      "    \n",
      "    eye_dome_lighting : bool, optional\n",
      "        Enables eye dome lighting.\n",
      "    \n",
      "    volume : bool, default: False\n",
      "        Use the :func:`Plotter.add_volume()\n",
      "        <pyvista.Plotter.add_volume>` method for volume rendering.\n",
      "    \n",
      "    parallel_projection : bool, default: False\n",
      "        Enable parallel projection.\n",
      "    \n",
      "    jupyter_backend : str, default: :attr:`pyvista.plotting.themes.Theme.jupyter_backend`\n",
      "        Jupyter notebook plotting backend to use.  One of the\n",
      "        following:\n",
      "    \n",
      "        * ``'none'`` : Do not display in the notebook.\n",
      "        * ``'static'`` : Display a static figure.\n",
      "        * ``'trame'`` : Display using ``trame``.\n",
      "    \n",
      "        This can also be set globally with\n",
      "        :func:`pyvista.set_jupyter_backend`.\n",
      "    \n",
      "    return_viewer : bool, default: False\n",
      "        Return the jupyterlab viewer, scene, or display object\n",
      "        when plotting with jupyter notebook.\n",
      "    \n",
      "    return_cpos : bool, default: False\n",
      "        Return the last camera position from the render window\n",
      "        when enabled.  Defaults to value in theme settings.\n",
      "    \n",
      "    jupyter_kwargs : dict, optional\n",
      "        Keyword arguments for the Jupyter notebook plotting backend.\n",
      "    \n",
      "    theme : pyvista.plotting.themes.Theme, optional\n",
      "        Plot-specific theme.\n",
      "    \n",
      "    anti_aliasing : str | bool, default: :attr:`pyvista.plotting.themes.Theme.anti_aliasing`\n",
      "        Enable or disable anti-aliasing. If ``True``, uses ``\"msaa\"``. If False,\n",
      "        disables anti_aliasing. If a string, should be either ``\"fxaa\"`` or\n",
      "        ``\"ssaa\"``.\n",
      "    \n",
      "    zoom : float, str, optional\n",
      "        Camera zoom.  Either ``'tight'`` or a float. A value greater than 1\n",
      "        is a zoom-in, a value less than 1 is a zoom-out.  Must be greater\n",
      "        than 0.\n",
      "    \n",
      "    border : bool, default: False\n",
      "        Draw a border around each render window.\n",
      "    \n",
      "    border_color : ColorLike, default: \"k\"\n",
      "        Either a string, rgb list, or hex color string.  For example:\n",
      "    \n",
      "            * ``color='white'``\n",
      "            * ``color='w'``\n",
      "            * ``color=[1.0, 1.0, 1.0]``\n",
      "            * ``color='#FFFFFF'``\n",
      "    \n",
      "    border_width : float, default: 2.0\n",
      "        Width of the border in pixels when enabled.\n",
      "    \n",
      "    ssao : bool, optional\n",
      "        Enable surface space ambient occlusion (SSAO). See\n",
      "        :func:`Plotter.enable_ssao` for more details.\n",
      "    \n",
      "    **kwargs : dict, optional\n",
      "        See :func:`pyvista.Plotter.add_mesh` for additional options.\n",
      "    \n",
      "    Returns\n",
      "    -------\n",
      "    cpos : list\n",
      "        List of camera position, focal point, and view up.\n",
      "        Returned only when ``return_cpos=True`` or set in the\n",
      "        default global or plot theme.  Not returned when in a\n",
      "        jupyter notebook and ``return_viewer=True``.\n",
      "    \n",
      "    image : np.ndarray\n",
      "        Numpy array of the last image when either ``return_img=True``\n",
      "        or ``screenshot=True`` is set. Not returned when in a\n",
      "        jupyter notebook with ``return_viewer=True``. Optionally\n",
      "        contains alpha values. Sized:\n",
      "    \n",
      "        * [Window height x Window width x 3] if the theme sets\n",
      "          ``transparent_background=False``.\n",
      "        * [Window height x Window width x 4] if the theme sets\n",
      "          ``transparent_background=True``.\n",
      "    \n",
      "    widget : ipywidgets.Widget\n",
      "        IPython widget when ``return_viewer=True``.\n",
      "    \n",
      "    Examples\n",
      "    --------\n",
      "    Plot a simple sphere while showing its edges.\n",
      "    \n",
      "    >>> import pyvista as pv\n",
      "    >>> mesh = pv.Sphere()\n",
      "    >>> mesh.plot(show_edges=True)\n",
      "    \n",
      "    Plot a volume mesh. Color by distance from the center of the\n",
      "    ImageData. Note ``volume=True`` is passed.\n",
      "    \n",
      "    >>> import numpy as np\n",
      "    >>> grid = pv.ImageData(\n",
      "    ...     dimensions=(32, 32, 32), spacing=(0.5, 0.5, 0.5)\n",
      "    ... )\n",
      "    >>> grid['data'] = np.linalg.norm(grid.center - grid.points, axis=1)\n",
      "    >>> grid['data'] = np.abs(grid['data'] - grid['data'].max()) ** 3\n",
      "    >>> grid.plot(volume=True)\n",
      "\n"
     ]
    }
   ],
   "source": [
    "help(mesh.plot)"
   ]
  },
  {
   "cell_type": "code",
   "execution_count": 4,
   "metadata": {},
   "outputs": [],
   "source": [
    "import trimesh\n",
    "\n",
    "def pv_to_trimesh(pv_mesh):\n",
    "    \"\"\"\n",
    "    PyVista PolyData를 Trimesh 객체로 변환\n",
    "    \n",
    "    Parameters:\n",
    "    -----------\n",
    "    pv_mesh : pyvista.PolyData\n",
    "        변환할 PyVista mesh\n",
    "    \n",
    "    Returns:\n",
    "    --------\n",
    "    trimesh.Trimesh\n",
    "        변환된 Trimesh 객체\n",
    "    \"\"\"\n",
    "    mesh = pv_mesh.triangulate()\n",
    "    # vertices와 faces 추출\n",
    "    vertices = mesh.points\n",
    "    faces = mesh.faces.reshape(-1, 4)[:, 1:4]  # 첫 번째 열(셀 타입) 제외\n",
    "    \n",
    "    # Trimesh 객체 생성\n",
    "    tri_mesh = trimesh.Trimesh(vertices=vertices, faces=faces)\n",
    "    \n",
    "    return tri_mesh\n",
    "\n",
    "# mesh를 Trimesh로 변환\n",
    "tri_mesh = pv_to_trimesh(mesh)\n",
    "\n",
    "# 이제 trimesh의 signed_distance() 함수 사용 가능\n",
    "# 예시:\n",
    "# distances = tri_mesh.signed_distance(points)"
   ]
  },
  {
   "cell_type": "code",
   "execution_count": 5,
   "metadata": {},
   "outputs": [],
   "source": [
    "tri_mesh = pv_to_trimesh(mesh)\n",
    "\n",
    "bounds = tri_mesh.bounds\n",
    "resolution = 50\n",
    "\n",
    "margin = 0.01\n",
    "x_vals = np.linspace(bounds[0][0] - margin, bounds[1][0] + margin, resolution)\n",
    "y_vals = np.linspace(bounds[0][1] - margin, bounds[1][1] + margin, resolution)\n",
    "z_vals = np.linspace(bounds[0][2] - margin, bounds[1][2] + margin, resolution)\n",
    "\n",
    "X, Y, Z = np.meshgrid(x_vals, y_vals, z_vals, indexing='ij')\n",
    "random_points = np.column_stack([X.ravel(), Y.ravel(), Z.ravel()])\n"
   ]
  },
  {
   "cell_type": "code",
   "execution_count": 6,
   "metadata": {},
   "outputs": [
    {
     "name": "stdout",
     "output_type": "stream",
     "text": [
      "Help on function signed_distance in module trimesh.proximity:\n",
      "\n",
      "signed_distance(mesh, points)\n",
      "    Find the signed distance from a mesh to a list of points.\n",
      "    \n",
      "    * Points OUTSIDE the mesh will have NEGATIVE distance\n",
      "    * Points within tol.merge of the surface will have POSITIVE distance\n",
      "    * Points INSIDE the mesh will have POSITIVE distance\n",
      "    \n",
      "    Parameters\n",
      "    -----------\n",
      "    mesh : trimesh.Trimesh\n",
      "      Mesh to query.\n",
      "    points : (n, 3) float\n",
      "      Points in space\n",
      "    \n",
      "    Returns\n",
      "    ----------\n",
      "    signed_distance : (n,) float\n",
      "      Signed distance from point to mesh\n",
      "\n"
     ]
    }
   ],
   "source": [
    "help(trimesh.proximity.signed_distance)"
   ]
  },
  {
   "cell_type": "code",
   "execution_count": 7,
   "metadata": {},
   "outputs": [
    {
     "name": "stderr",
     "output_type": "stream",
     "text": [
      "/home/webtk/workspaces/webtk25/simple-pyvista-notebooks/.venv/lib/python3.10/site-packages/trimesh/triangles.py:547: RuntimeWarning: divide by zero encountered in divide\n",
      "  inverse_denominator = 1.0 / (dot00 * dot11 - dot01 * dot01)\n",
      "/home/webtk/workspaces/webtk25/simple-pyvista-notebooks/.venv/lib/python3.10/site-packages/trimesh/triangles.py:550: RuntimeWarning: invalid value encountered in multiply\n",
      "  barycentric[:, 2] = (dot00 * dot12 - dot01 * dot02) * inverse_denominator\n",
      "/home/webtk/workspaces/webtk25/simple-pyvista-notebooks/.venv/lib/python3.10/site-packages/trimesh/triangles.py:551: RuntimeWarning: invalid value encountered in multiply\n",
      "  barycentric[:, 1] = (dot11 * dot02 - dot01 * dot12) * inverse_denominator\n"
     ]
    }
   ],
   "source": [
    "distances = trimesh.proximity.signed_distance(tri_mesh, random_points)"
   ]
  },
  {
   "cell_type": "code",
   "execution_count": 8,
   "metadata": {},
   "outputs": [
    {
     "data": {
      "text/plain": [
       "array([-0.42847242, -0.40039336, -0.37362275, ..., -0.37362275,\n",
       "       -0.        , -0.        ], shape=(125000,))"
      ]
     },
     "execution_count": 8,
     "metadata": {},
     "output_type": "execute_result"
    }
   ],
   "source": [
    "distances"
   ]
  },
  {
   "cell_type": "code",
   "execution_count": 14,
   "metadata": {},
   "outputs": [
    {
     "data": {
      "image/png": "[encoded data removed]",
      "text/plain": [
       "<Figure size 1000x600 with 1 Axes>"
      ]
     },
     "metadata": {},
     "output_type": "display_data"
    },
    {
     "name": "stdout",
     "output_type": "stream",
     "text": [
      "Mean distance: -0.048\n",
      "Standard deviation: 0.233\n",
      "Min distance: -1.010\n",
      "Max distance: 0.928\n"
     ]
    }
   ],
   "source": [
    "from utils import plot_histogram\n",
    "plot_histogram(distances)"
   ]
  },
  {
   "cell_type": "code",
   "execution_count": 12,
   "metadata": {},
   "outputs": [
    {
     "data": {
      "text/plain": [
       "(50, 50, 50)"
      ]
     },
     "execution_count": 12,
     "metadata": {},
     "output_type": "execute_result"
    }
   ],
   "source": [
    "margin = 0.01\n",
    "voxel_data = (distances >= -margin) & (distances <= margin)\n",
    "voxel_data = voxel_data.reshape(resolution, resolution, resolution)\n",
    "voxel_data.shape"
   ]
  },
  {
   "cell_type": "code",
   "execution_count": 13,
   "metadata": {},
   "outputs": [
    {
     "data": {
      "application/vnd.jupyter.widget-view+json": {
       "model_id": "987971f14a1846b9afb6b8f53b2a9c69",
       "version_major": 2,
       "version_minor": 0
      },
      "text/plain": [
       "Widget(value='<iframe src=\"http://localhost:32915/index.html?ui=P_0x7f3fbe566770_1&reconnect=auto\" class=\"pyvi…"
      ]
     },
     "metadata": {},
     "output_type": "display_data"
    }
   ],
   "source": [
    "from trimesh.voxel import ops\n",
    "trimesh = ops.matrix_to_marching_cubes(voxel_data, pitch=1.0)\n",
    "\n",
    "def trimesh_to_pv(trimesh):\n",
    "    vertices = trimesh.vertices\n",
    "    faces = trimesh.faces\n",
    "    # 첫번째 열에 3 추가\n",
    "    faces = np.column_stack([np.full(faces.shape[0], 3), faces])\n",
    "    return pv.PolyData(vertices, faces)\n",
    "\n",
    "surface_mesh = trimesh_to_pv(trimesh)\n",
    "surface_mesh.clean()\n",
    "surface_mesh.plot()\n"
   ]
  },
  {
   "cell_type": "markdown",
   "metadata": {},
   "source": [
    " - sdf 계산 정확도가 많이 떨어지는 것?"
   ]
  },
  {
   "cell_type": "code",
   "execution_count": null,
   "metadata": {},
   "outputs": [],
   "source": []
  }
 ],
 "metadata": {
  "kernelspec": {
   "display_name": ".venv",
   "language": "python",
   "name": "python3"
  },
  "language_info": {
   "codemirror_mode": {
    "name": "ipython",
    "version": 3
   },
   "file_extension": ".py",
   "mimetype": "text/x-python",
   "name": "python",
   "nbconvert_exporter": "python",
   "pygments_lexer": "ipython3",
   "version": "3.10.15"
  }
 },
 "nbformat": 4,
 "nbformat_minor": 2
}
