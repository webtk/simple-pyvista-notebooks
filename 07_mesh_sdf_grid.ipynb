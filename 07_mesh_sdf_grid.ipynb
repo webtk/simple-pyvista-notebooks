{
 "cells": [
  {
   "cell_type": "code",
   "execution_count": 19,
   "metadata": {},
   "outputs": [],
   "source": [
    "import pyvista as pv\n",
    "import vtk\n",
    "import numpy as np"
   ]
  },
  {
   "cell_type": "code",
   "execution_count": 20,
   "metadata": {},
   "outputs": [
    {
     "data": {
      "application/vnd.jupyter.widget-view+json": {
       "model_id": "7d5c3a60020b44afa4d5f4f677d10fe8",
       "version_major": 2,
       "version_minor": 0
      },
      "text/plain": [
       "Widget(value='<iframe src=\"http://localhost:39811/index.html?ui=P_0x7f087169fee0_4&reconnect=auto\" class=\"pyvi…"
      ]
     },
     "metadata": {},
     "output_type": "display_data"
    }
   ],
   "source": [
    "points = np.array([\n",
    "    [0.5, 0.0, 0.0],\n",
    "    [1.0, 0.0, 0.0],\n",
    "    [1.0, 1.0, 0.0],\n",
    "    [0.5, 1.0, 0.0],\n",
    "])\n",
    "\n",
    "# 2) faces 배열 정의\n",
    "#    첫 원소 '4'는 꼭짓점 개수, 그 뒤로 점 인덱스\n",
    "faces = np.hstack([[4, 0, 1, 2, 3]])\n",
    "# 3) PolyData 생성\n",
    "square = pv.PolyData(points, faces)\n",
    "mesh = square.extrude_rotate(\n",
    "    angle=270,\n",
    "    capping=True,\n",
    "    resolution=30,\n",
    "    rotation_axis=(1,0,0)\n",
    ")\n",
    "mesh.plot()"
   ]
  },
  {
   "cell_type": "code",
   "execution_count": 21,
   "metadata": {},
   "outputs": [
    {
     "data": {
      "application/vnd.jupyter.widget-view+json": {
       "model_id": "0b463240e93244e494995711df1ad5bf",
       "version_major": 2,
       "version_minor": 0
      },
      "text/plain": [
       "Widget(value='<iframe src=\"http://localhost:39811/index.html?ui=P_0x7f07c99e5420_5&reconnect=auto\" class=\"pyvi…"
      ]
     },
     "metadata": {},
     "output_type": "display_data"
    }
   ],
   "source": [
    "resolution = 50\n",
    "\n",
    "xmin, xmax, ymin, ymax, zmin, zmax = mesh.bounds\n",
    "\n",
    "margin = 0.1\n",
    "x_vals = np.linspace(xmin - margin, xmax + margin, resolution)\n",
    "y_vals = np.linspace(ymin - margin, ymax + margin, resolution)\n",
    "z_vals = np.linspace(zmin - margin, zmax + margin, resolution)\n",
    "\n",
    "X, Y, Z = np.meshgrid(x_vals, y_vals, z_vals, indexing='ij')\n",
    "random_points = np.column_stack([X.ravel(), Y.ravel(), Z.ravel()])\n",
    "# random_points = np.random.rand(resolution, resolution, resolution).ravel(order='F')\n",
    "grid = pv.ImageData(dimensions=(resolution, resolution, resolution))\n",
    "# grid.origin = (0.0, 0.0, 0.0)\n",
    "# grid.spacing = (1.0, 1.0, 1.0)\n",
    "grid.origin = (xmin, ymin, zmin)\n",
    "grid.spacing = (x_vals[1] - x_vals[0], y_vals[1] - y_vals[0], z_vals[1] - z_vals[0])\n",
    "grid.point_data['points'] = random_points\n",
    "grid.set_active_scalars('points')\n",
    "grid.plot()"
   ]
  },
  {
   "cell_type": "code",
   "execution_count": 22,
   "metadata": {},
   "outputs": [
    {
     "name": "stdout",
     "output_type": "stream",
     "text": [
      "Help on method compute_implicit_distance in module pyvista.core.filters.data_set:\n",
      "\n",
      "compute_implicit_distance(surface, inplace=False) method of pyvista.core.grid.ImageData instance\n",
      "    Compute the implicit distance from the points to a surface.\n",
      "    \n",
      "    This filter will compute the implicit distance from all of the\n",
      "    nodes of this mesh to a given surface. This distance will be\n",
      "    added as a point array called ``'implicit_distance'``.\n",
      "    \n",
      "    Nodes of this mesh which are interior to the input surface\n",
      "    geometry have a negative distance, and nodes on the exterior\n",
      "    have a positive distance. Nodes which intersect the input\n",
      "    surface has a distance of zero.\n",
      "    \n",
      "    Parameters\n",
      "    ----------\n",
      "    surface : pyvista.DataSet\n",
      "        The surface used to compute the distance.\n",
      "    \n",
      "    inplace : bool, default: False\n",
      "        If ``True``, a new scalar array will be added to the\n",
      "        ``point_data`` of this mesh and the modified mesh will\n",
      "        be returned. Otherwise a copy of this mesh is returned\n",
      "        with that scalar field added.\n",
      "    \n",
      "    Returns\n",
      "    -------\n",
      "    pyvista.DataSet\n",
      "        Dataset containing the ``'implicit_distance'`` array in\n",
      "        ``point_data``.\n",
      "    \n",
      "    Examples\n",
      "    --------\n",
      "    Compute the distance between all the points on a sphere and a\n",
      "    plane.\n",
      "    \n",
      "    >>> import pyvista as pv\n",
      "    >>> sphere = pv.Sphere(radius=0.35)\n",
      "    >>> plane = pv.Plane()\n",
      "    >>> _ = sphere.compute_implicit_distance(plane, inplace=True)\n",
      "    >>> dist = sphere['implicit_distance']\n",
      "    >>> type(dist)\n",
      "    <class 'pyvista.core.pyvista_ndarray.pyvista_ndarray'>\n",
      "    \n",
      "    Plot these distances as a heatmap. Note how distances above the\n",
      "    plane are positive, and distances below the plane are negative.\n",
      "    \n",
      "    >>> pl = pv.Plotter()\n",
      "    >>> _ = pl.add_mesh(\n",
      "    ...     sphere, scalars='implicit_distance', cmap='bwr'\n",
      "    ... )\n",
      "    >>> _ = pl.add_mesh(plane, color='w', style='wireframe')\n",
      "    >>> pl.show()\n",
      "    \n",
      "    We can also compute the distance from all the points on the\n",
      "    plane to the sphere.\n",
      "    \n",
      "    >>> _ = plane.compute_implicit_distance(sphere, inplace=True)\n",
      "    \n",
      "    Again, we can plot these distances as a heatmap. Note how\n",
      "    distances inside the sphere are negative and distances outside\n",
      "    the sphere are positive.\n",
      "    \n",
      "    >>> pl = pv.Plotter()\n",
      "    >>> _ = pl.add_mesh(\n",
      "    ...     plane,\n",
      "    ...     scalars='implicit_distance',\n",
      "    ...     cmap='bwr',\n",
      "    ...     clim=[-0.35, 0.35],\n",
      "    ... )\n",
      "    >>> _ = pl.add_mesh(sphere, color='w', style='wireframe')\n",
      "    >>> pl.show()\n",
      "    \n",
      "    See :ref:`clip_with_surface_example` and\n",
      "    :ref:`voxelize_surface_mesh_example` for more examples using\n",
      "    this filter.\n",
      "\n"
     ]
    }
   ],
   "source": [
    "help(grid.compute_implicit_distance)"
   ]
  },
  {
   "cell_type": "code",
   "execution_count": 23,
   "metadata": {},
   "outputs": [
    {
     "data": {
      "application/vnd.jupyter.widget-view+json": {
       "model_id": "8385cb0d03474144893f3513139f03c4",
       "version_major": 2,
       "version_minor": 0
      },
      "text/plain": [
       "Widget(value='<iframe src=\"http://localhost:39811/index.html?ui=P_0x7f07c7b26a70_6&reconnect=auto\" class=\"pyvi…"
      ]
     },
     "metadata": {},
     "output_type": "display_data"
    }
   ],
   "source": [
    "sdf_grid = grid.compute_implicit_distance(surface=mesh)\n",
    "sdf_grid.set_active_scalars('implicit_distance')\n",
    "sdf_grid.plot()"
   ]
  },
  {
   "cell_type": "code",
   "execution_count": 24,
   "metadata": {},
   "outputs": [
    {
     "data": {
      "application/vnd.jupyter.widget-view+json": {
       "model_id": "6db4da34b43948778450c0ff77ded0c6",
       "version_major": 2,
       "version_minor": 0
      },
      "text/plain": [
       "Widget(value='<iframe src=\"http://localhost:39811/index.html?ui=P_0x7f07c810e620_7&reconnect=auto\" class=\"pyvi…"
      ]
     },
     "metadata": {},
     "output_type": "display_data"
    }
   ],
   "source": [
    "surface = sdf_grid.contour(isosurfaces=1, scalars='implicit_distance', rng=[-0.1, 0.1], method='marching_cubes')\n",
    "surface.plot()"
   ]
  }
 ],
 "metadata": {
  "kernelspec": {
   "display_name": ".venv",
   "language": "python",
   "name": "python3"
  },
  "language_info": {
   "codemirror_mode": {
    "name": "ipython",
    "version": 3
   },
   "file_extension": ".py",
   "mimetype": "text/x-python",
   "name": "python",
   "nbconvert_exporter": "python",
   "pygments_lexer": "ipython3",
   "version": "3.10.15"
  }
 },
 "nbformat": 4,
 "nbformat_minor": 2
}
