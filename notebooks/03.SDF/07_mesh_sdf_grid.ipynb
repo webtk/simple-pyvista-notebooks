{
 "cells": [
  {
   "cell_type": "markdown",
   "metadata": {},
   "source": [
    "# Sampling SDF with PyVista"
   ]
  },
  {
   "cell_type": "code",
   "execution_count": 1,
   "metadata": {},
   "outputs": [],
   "source": [
    "import pyvista as pv\n",
    "import vtk\n",
    "import numpy as np"
   ]
  },
  {
   "cell_type": "code",
   "execution_count": 2,
   "metadata": {},
   "outputs": [
    {
     "data": {
      "application/vnd.jupyter.widget-view+json": {
       "model_id": "255f9cb4077342878302a554a62f8703",
       "version_major": 2,
       "version_minor": 0
      },
      "text/plain": [
       "Widget(value='<iframe src=\"http://localhost:44681/index.html?ui=P_0x7f322546bee0_0&reconnect=auto\" class=\"pyvi…"
      ]
     },
     "metadata": {},
     "output_type": "display_data"
    }
   ],
   "source": [
    "from utils import load_sample_mesh\n",
    "mesh = load_sample_mesh()\n",
    "mesh.plot()"
   ]
  },
  {
   "cell_type": "code",
   "execution_count": 3,
   "metadata": {},
   "outputs": [
    {
     "data": {
      "application/vnd.jupyter.widget-view+json": {
       "model_id": "6b47084033324d109d1be6e73ce77760",
       "version_major": 2,
       "version_minor": 0
      },
      "text/plain": [
       "Widget(value='<iframe src=\"http://localhost:44681/index.html?ui=P_0x7f3283ef9030_1&reconnect=auto\" class=\"pyvi…"
      ]
     },
     "metadata": {},
     "output_type": "display_data"
    }
   ],
   "source": [
    "resolution = 50\n",
    "\n",
    "xmin, xmax, ymin, ymax, zmin, zmax = mesh.bounds\n",
    "\n",
    "margin = 0.1\n",
    "x_vals = np.linspace(xmin - margin, xmax + margin, resolution)\n",
    "y_vals = np.linspace(ymin - margin, ymax + margin, resolution)\n",
    "z_vals = np.linspace(zmin - margin, zmax + margin, resolution)\n",
    "\n",
    "X, Y, Z = np.meshgrid(x_vals, y_vals, z_vals, indexing='ij')\n",
    "grid_points = np.column_stack([X.ravel(), Y.ravel(), Z.ravel()])\n",
    "# random_points = np.random.rand(resolution, resolution, resolution).ravel(order='F')\n",
    "grid = pv.ImageData(dimensions=(resolution, resolution, resolution))\n",
    "# grid.origin = (0.0, 0.0, 0.0)\n",
    "# grid.spacing = (1.0, 1.0, 1.0)\n",
    "grid.origin = (xmin, ymin, zmin)\n",
    "grid.spacing = (x_vals[1] - x_vals[0], y_vals[1] - y_vals[0], z_vals[1] - z_vals[0])\n",
    "grid.point_data['points'] = grid_points\n",
    "grid.set_active_scalars('points')\n",
    "grid.plot()"
   ]
  },
  {
   "cell_type": "code",
   "execution_count": 4,
   "metadata": {},
   "outputs": [
    {
     "name": "stdout",
     "output_type": "stream",
     "text": [
      "Help on method compute_implicit_distance in module pyvista.core.filters.data_set:\n",
      "\n",
      "compute_implicit_distance(surface, inplace=False) method of pyvista.core.grid.ImageData instance\n",
      "    Compute the implicit distance from the points to a surface.\n",
      "    \n",
      "    This filter will compute the implicit distance from all of the\n",
      "    nodes of this mesh to a given surface. This distance will be\n",
      "    added as a point array called ``'implicit_distance'``.\n",
      "    \n",
      "    Nodes of this mesh which are interior to the input surface\n",
      "    geometry have a negative distance, and nodes on the exterior\n",
      "    have a positive distance. Nodes which intersect the input\n",
      "    surface has a distance of zero.\n",
      "    \n",
      "    Parameters\n",
      "    ----------\n",
      "    surface : pyvista.DataSet\n",
      "        The surface used to compute the distance.\n",
      "    \n",
      "    inplace : bool, default: False\n",
      "        If ``True``, a new scalar array will be added to the\n",
      "        ``point_data`` of this mesh and the modified mesh will\n",
      "        be returned. Otherwise a copy of this mesh is returned\n",
      "        with that scalar field added.\n",
      "    \n",
      "    Returns\n",
      "    -------\n",
      "    pyvista.DataSet\n",
      "        Dataset containing the ``'implicit_distance'`` array in\n",
      "        ``point_data``.\n",
      "    \n",
      "    Examples\n",
      "    --------\n",
      "    Compute the distance between all the points on a sphere and a\n",
      "    plane.\n",
      "    \n",
      "    >>> import pyvista as pv\n",
      "    >>> sphere = pv.Sphere(radius=0.35)\n",
      "    >>> plane = pv.Plane()\n",
      "    >>> _ = sphere.compute_implicit_distance(plane, inplace=True)\n",
      "    >>> dist = sphere['implicit_distance']\n",
      "    >>> type(dist)\n",
      "    <class 'pyvista.core.pyvista_ndarray.pyvista_ndarray'>\n",
      "    \n",
      "    Plot these distances as a heatmap. Note how distances above the\n",
      "    plane are positive, and distances below the plane are negative.\n",
      "    \n",
      "    >>> pl = pv.Plotter()\n",
      "    >>> _ = pl.add_mesh(\n",
      "    ...     sphere, scalars='implicit_distance', cmap='bwr'\n",
      "    ... )\n",
      "    >>> _ = pl.add_mesh(plane, color='w', style='wireframe')\n",
      "    >>> pl.show()\n",
      "    \n",
      "    We can also compute the distance from all the points on the\n",
      "    plane to the sphere.\n",
      "    \n",
      "    >>> _ = plane.compute_implicit_distance(sphere, inplace=True)\n",
      "    \n",
      "    Again, we can plot these distances as a heatmap. Note how\n",
      "    distances inside the sphere are negative and distances outside\n",
      "    the sphere are positive.\n",
      "    \n",
      "    >>> pl = pv.Plotter()\n",
      "    >>> _ = pl.add_mesh(\n",
      "    ...     plane,\n",
      "    ...     scalars='implicit_distance',\n",
      "    ...     cmap='bwr',\n",
      "    ...     clim=[-0.35, 0.35],\n",
      "    ... )\n",
      "    >>> _ = pl.add_mesh(sphere, color='w', style='wireframe')\n",
      "    >>> pl.show()\n",
      "    \n",
      "    See :ref:`clip_with_surface_example` and\n",
      "    :ref:`voxelize_surface_mesh_example` for more examples using\n",
      "    this filter.\n",
      "\n"
     ]
    }
   ],
   "source": [
    "help(grid.compute_implicit_distance)"
   ]
  },
  {
   "cell_type": "code",
   "execution_count": 5,
   "metadata": {},
   "outputs": [
    {
     "data": {
      "application/vnd.jupyter.widget-view+json": {
       "model_id": "4f56bb0e6519497a8a76078b8f7e6736",
       "version_major": 2,
       "version_minor": 0
      },
      "text/plain": [
       "Widget(value='<iframe src=\"http://localhost:44681/index.html?ui=P_0x7f321ebc5450_2&reconnect=auto\" class=\"pyvi…"
      ]
     },
     "metadata": {},
     "output_type": "display_data"
    }
   ],
   "source": [
    "# PyVista의 SDF 계산이 trimesh 보다 훨씬 빠르다\n",
    "sdf_grid = grid.compute_implicit_distance(surface=mesh)\n",
    "sdf_grid.set_active_scalars('implicit_distance')\n",
    "sdf_grid.plot()"
   ]
  },
  {
   "cell_type": "code",
   "execution_count": 6,
   "metadata": {},
   "outputs": [
    {
     "data": {
      "image/png": "[encoded data removed]",
      "text/plain": [
       "<Figure size 1000x600 with 1 Axes>"
      ]
     },
     "metadata": {},
     "output_type": "display_data"
    },
    {
     "name": "stdout",
     "output_type": "stream",
     "text": [
      "Mean distance: 17.586\n",
      "Standard deviation: 14.772\n",
      "Min distance: -8.664\n",
      "Max distance: 62.246\n"
     ]
    }
   ],
   "source": [
    "from utils import plot_histogram\n",
    "plot_histogram(sdf_grid.point_data['implicit_distance'])"
   ]
  },
  {
   "cell_type": "code",
   "execution_count": 7,
   "metadata": {},
   "outputs": [
    {
     "data": {
      "application/vnd.jupyter.widget-view+json": {
       "model_id": "cc4ab9fbcccd4bcfb15215c2d3fb565f",
       "version_major": 2,
       "version_minor": 0
      },
      "text/plain": [
       "Widget(value='<iframe src=\"http://localhost:44681/index.html?ui=P_0x7f31b5152ad0_3&reconnect=auto\" class=\"pyvi…"
      ]
     },
     "metadata": {},
     "output_type": "display_data"
    }
   ],
   "source": [
    "surface = sdf_grid.contour(isosurfaces=1, scalars='implicit_distance', rng=[-0.1, 0.1], method='marching_cubes')\n",
    "surface.plot()"
   ]
  },
  {
   "cell_type": "code",
   "execution_count": 8,
   "metadata": {},
   "outputs": [
    {
     "name": "stdout",
     "output_type": "stream",
     "text": [
      "Help on method contour in module pyvista.core.filters.data_set:\n",
      "\n",
      "contour(isosurfaces=10, scalars=None, compute_normals=False, compute_gradients=False, compute_scalars=True, rng=None, preference='point', method='contour', progress_bar=False) method of pyvista.core.grid.ImageData instance\n",
      "    Contour an input self by an array.\n",
      "    \n",
      "    ``isosurfaces`` can be an integer specifying the number of\n",
      "    isosurfaces in the data range or a sequence of values for\n",
      "    explicitly setting the isosurfaces.\n",
      "    \n",
      "    Parameters\n",
      "    ----------\n",
      "    isosurfaces : int | sequence[float], optional\n",
      "        Number of isosurfaces to compute across valid data range or a\n",
      "        sequence of float values to explicitly use as the isosurfaces.\n",
      "    \n",
      "    scalars : str | array_like[float], optional\n",
      "        Name or array of scalars to threshold on. If this is an array, the\n",
      "        output of this filter will save them as ``\"Contour Data\"``.\n",
      "        Defaults to currently active scalars.\n",
      "    \n",
      "    compute_normals : bool, default: False\n",
      "        Compute normals for the dataset.\n",
      "    \n",
      "    compute_gradients : bool, default: False\n",
      "        Compute gradients for the dataset.\n",
      "    \n",
      "    compute_scalars : bool, default: True\n",
      "        Preserves the scalar values that are being contoured.\n",
      "    \n",
      "    rng : sequence[float], optional\n",
      "        If an integer number of isosurfaces is specified, this is\n",
      "        the range over which to generate contours. Default is the\n",
      "        scalars array's full data range.\n",
      "    \n",
      "    preference : str, default: \"point\"\n",
      "        When ``scalars`` is specified, this is the preferred array\n",
      "        type to search for in the dataset.  Must be either\n",
      "        ``'point'`` or ``'cell'``.\n",
      "    \n",
      "    method : str, default:  \"contour\"\n",
      "        Specify to choose which vtk filter is used to create the contour.\n",
      "        Must be one of ``'contour'``, ``'marching_cubes'`` and\n",
      "        ``'flying_edges'``.\n",
      "    \n",
      "    progress_bar : bool, default: False\n",
      "        Display a progress bar to indicate progress.\n",
      "    \n",
      "    Returns\n",
      "    -------\n",
      "    pyvista.PolyData\n",
      "        Contoured surface.\n",
      "    \n",
      "    Examples\n",
      "    --------\n",
      "    Generate contours for the random hills dataset.\n",
      "    \n",
      "    >>> from pyvista import examples\n",
      "    >>> hills = examples.load_random_hills()\n",
      "    >>> contours = hills.contour()\n",
      "    >>> contours.plot(line_width=5)\n",
      "    \n",
      "    Generate the surface of a mobius strip using flying edges.\n",
      "    \n",
      "    >>> import pyvista as pv\n",
      "    >>> a = 0.4\n",
      "    >>> b = 0.1\n",
      "    >>> def f(x, y, z):\n",
      "    ...     xx = x * x\n",
      "    ...     yy = y * y\n",
      "    ...     zz = z * z\n",
      "    ...     xyz = x * y * z\n",
      "    ...     xx_yy = xx + yy\n",
      "    ...     a_xx = a * xx\n",
      "    ...     b_yy = b * yy\n",
      "    ...     return (\n",
      "    ...         (xx_yy + 1) * (a_xx + b_yy)\n",
      "    ...         + zz * (b * xx + a * yy)\n",
      "    ...         - 2 * (a - b) * xyz\n",
      "    ...         - a * b * xx_yy\n",
      "    ...     ) ** 2 - 4 * (xx + yy) * (a_xx + b_yy - xyz * (a - b)) ** 2\n",
      "    ...\n",
      "    >>> n = 100\n",
      "    >>> x_min, y_min, z_min = -1.35, -1.7, -0.65\n",
      "    >>> grid = pv.ImageData(\n",
      "    ...     dimensions=(n, n, n),\n",
      "    ...     spacing=(\n",
      "    ...         abs(x_min) / n * 2,\n",
      "    ...         abs(y_min) / n * 2,\n",
      "    ...         abs(z_min) / n * 2,\n",
      "    ...     ),\n",
      "    ...     origin=(x_min, y_min, z_min),\n",
      "    ... )\n",
      "    >>> x, y, z = grid.points.T\n",
      "    >>> values = f(x, y, z)\n",
      "    >>> out = grid.contour(\n",
      "    ...     1,\n",
      "    ...     scalars=values,\n",
      "    ...     rng=[0, 0],\n",
      "    ...     method='flying_edges',\n",
      "    ... )\n",
      "    >>> out.plot(color='lightblue', smooth_shading=True)\n",
      "    \n",
      "    See :ref:`common_filter_example` or\n",
      "    :ref:`marching_cubes_example` for more examples using this\n",
      "    filter.\n",
      "\n"
     ]
    }
   ],
   "source": [
    "help(sdf_grid.contour)"
   ]
  }
 ],
 "metadata": {
  "kernelspec": {
   "display_name": ".venv",
   "language": "python",
   "name": "python3"
  },
  "language_info": {
   "codemirror_mode": {
    "name": "ipython",
    "version": 3
   },
   "file_extension": ".py",
   "mimetype": "text/x-python",
   "name": "python",
   "nbconvert_exporter": "python",
   "pygments_lexer": "ipython3",
   "version": "3.10.15"
  }
 },
 "nbformat": 4,
 "nbformat_minor": 2
}
