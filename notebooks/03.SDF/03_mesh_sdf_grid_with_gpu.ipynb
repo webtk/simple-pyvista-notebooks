{
 "cells": [
  {
   "cell_type": "markdown",
   "id": "8cfb1aec",
   "metadata": {},
   "source": [
    "# Sampling SDF with GPU\n",
    " - [LibIGL with GPU](https://github.com/kesdogan/libigl_gpu) 참고 하여 GPU 기반 SDF 구하기"
   ]
  }
 ],
 "metadata": {
  "language_info": {
   "name": "python"
  }
 },
 "nbformat": 4,
 "nbformat_minor": 5
}
