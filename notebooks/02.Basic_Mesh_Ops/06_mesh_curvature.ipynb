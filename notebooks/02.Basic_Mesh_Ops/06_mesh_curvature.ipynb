{
 "cells": [
  {
   "cell_type": "code",
   "execution_count": 5,
   "metadata": {},
   "outputs": [
    {
     "data": {
      "application/vnd.jupyter.widget-view+json": {
       "model_id": "892fcfb1619b4ca0b8f1402f1e259a9e",
       "version_major": 2,
       "version_minor": 0
      },
      "text/plain": [
       "Widget(value='<iframe src=\"http://localhost:36059/index.html?ui=P_0x7f3d3c157520_4&reconnect=auto\" class=\"pyvi…"
      ]
     },
     "metadata": {},
     "output_type": "display_data"
    }
   ],
   "source": [
    "import pyvista as pv\n",
    "\n",
    "# 1) 구 메시 생성\n",
    "sphere = pv.Sphere(phi_resolution=40, theta_resolution=40)\n",
    "\n",
    "# 2) curvature()로 곡률 스칼라 계산\n",
    "#    curv_type을 'Mean', 'Gaussian', 'Maximum', 'Minimum' 중 하나로 지정 가능\n",
    "curv = sphere.curvature(curv_type='Mean')\n",
    "\n",
    "# 3) 시각화\n",
    "#    - scalars=curv: 메시의 각 점에 대해 곡률 값을 사용\n",
    "#    - cmap='jet': 컬러 맵 지정 (다른 이름도 가능)\n",
    "plotter = pv.Plotter()\n",
    "plotter.add_mesh(sphere, scalars=curv, cmap='jet', show_edges=False)\n",
    "plotter.show()\n"
   ]
  }
 ],
 "metadata": {
  "kernelspec": {
   "display_name": ".venv",
   "language": "python",
   "name": "python3"
  },
  "language_info": {
   "codemirror_mode": {
    "name": "ipython",
    "version": 3
   },
   "file_extension": ".py",
   "mimetype": "text/x-python",
   "name": "python",
   "nbconvert_exporter": "python",
   "pygments_lexer": "ipython3",
   "version": "3.10.15"
  }
 },
 "nbformat": 4,
 "nbformat_minor": 2
}
