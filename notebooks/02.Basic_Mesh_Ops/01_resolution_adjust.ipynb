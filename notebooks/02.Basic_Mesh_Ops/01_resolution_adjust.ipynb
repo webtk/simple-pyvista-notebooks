{
 "cells": [
  {
   "cell_type": "markdown",
   "metadata": {},
   "source": [
    "# 해상도 조정\n",
    " - 해상도 줄이기: decimation\n",
    " - 해상도 늘리기(고해상화): interpolation"
   ]
  }
 ],
 "metadata": {
  "language_info": {
   "name": "python"
  }
 },
 "nbformat": 4,
 "nbformat_minor": 2
}
