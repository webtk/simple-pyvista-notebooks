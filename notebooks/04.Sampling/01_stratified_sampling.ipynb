{
 "cells": [
  {
   "cell_type": "markdown",
   "metadata": {},
   "source": [
    "# 층화 표집(Stratified Sampling) 예제\n",
    "- 전체 vertex 들을 displacement 속성 기준으로 층(stratum) 으로 나눈 뒤, 각 층에서 일정 비율로 표본을 추출하는 방식입니다."
   ]
  },
  {
   "cell_type": "code",
   "execution_count": 1,
   "metadata": {},
   "outputs": [],
   "source": [
    "import numpy as np\n",
    "\n",
    "def compute_displacement_magnitude(attributes):\n",
    "    return np.linalg.norm(attributes, axis=1)"
   ]
  },
  {
   "cell_type": "markdown",
   "metadata": {},
   "source": [
    "## 층화 기준 정하기\n",
    " - displacement magnitude 기준 quantile 로 층 나누기\n",
    " - 여기서는 4개 층으로 나누기"
   ]
  },
  {
   "cell_type": "code",
   "execution_count": null,
   "metadata": {},
   "outputs": [],
   "source": [
    "def stratify_by_quantiles(values, num_strata=4):\n",
    "    quantiles = np.percentile(values, np.linspace(0, 100, num_strata + 1))\n",
    "    strata_indices = np.digitize(values, bins=quantiles[1:-1], right=True)\n",
    "    return strata_indices  # N개의 strata index (0 ~ num_strata-1)"
   ]
  }
 ],
 "metadata": {
  "kernelspec": {
   "display_name": ".venv",
   "language": "python",
   "name": "python3"
  },
  "language_info": {
   "codemirror_mode": {
    "name": "ipython",
    "version": 3
   },
   "file_extension": ".py",
   "mimetype": "text/x-python",
   "name": "python",
   "nbconvert_exporter": "python",
   "pygments_lexer": "ipython3",
   "version": "3.10.15"
  }
 },
 "nbformat": 4,
 "nbformat_minor": 2
}
