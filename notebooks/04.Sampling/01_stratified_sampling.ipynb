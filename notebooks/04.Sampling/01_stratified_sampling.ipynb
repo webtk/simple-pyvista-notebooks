{
 "cells": [
  {
   "cell_type": "markdown",
   "metadata": {},
   "source": [
    "# 층화 표집(Stratified Sampling) 예제\n",
    "- 전체 vertex 들을 displacement 속성 기준으로 층(stratum) 으로 나눈 뒤, 각 층에서 일정 비율로 표본을 추출하는 방식입니다."
   ]
  },
  {
   "cell_type": "code",
   "execution_count": 1,
   "metadata": {},
   "outputs": [],
   "source": [
    "import numpy as np\n",
    "\n",
    "def compute_displacement_magnitude(attributes):\n",
    "    return np.linalg.norm(attributes, axis=1)"
   ]
  },
  {
   "cell_type": "markdown",
   "metadata": {},
   "source": [
    "## 층화 기준 정하기\n",
    " - displacement magnitude 기준 quantile 로 층 나누기\n",
    " - 여기서는 4개 층으로 나누기"
   ]
  },
  {
   "cell_type": "code",
   "execution_count": 2,
   "metadata": {},
   "outputs": [],
   "source": [
    "def stratify_by_quantiles(values, num_strata=4):\n",
    "    quantiles = np.percentile(values, np.linspace(0, 100, num_strata + 1))\n",
    "    strata_indices = np.digitize(values, bins=quantiles[1:-1], right=True)\n",
    "    return strata_indices  # N개의 strata index (0 ~ num_strata-1)"
   ]
  },
  {
   "cell_type": "markdown",
   "metadata": {},
   "source": [
    "## 각 층에서 일정 비율로 샘플링"
   ]
  },
  {
   "cell_type": "code",
   "execution_count": 3,
   "metadata": {},
   "outputs": [],
   "source": [
    "def stratified_sample(strata_indices, sample_ratio=0.1, seed=42):\n",
    "    np.random.seed(seed)\n",
    "    sampled_indices = []\n",
    "    for stratum in np.unique(strata_indices):\n",
    "        stratum_indices = np.where(strata_indices == stratum)[0]\n",
    "        n_samples = max(1, int(len(stratum_indices) * sample_ratio))\n",
    "        sampled = np.random.choice(stratum_indices, size=n_samples, replace=False)\n",
    "        sampled_indices.append(sampled)\n",
    "    return np.concatenate(sampled_indices)\n"
   ]
  },
  {
   "cell_type": "markdown",
   "metadata": {},
   "source": [
    "# 전체 통합 함수"
   ]
  },
  {
   "cell_type": "code",
   "execution_count": 4,
   "metadata": {},
   "outputs": [],
   "source": [
    "def stratified_sampling_from_mesh(vertices, attributes, num_strata=4, sample_ratio=0.1):\n",
    "    displacement_magnitude = compute_displacement_magnitude(attributes)\n",
    "    strata = stratify_by_quantiles(displacement_magnitude, num_strata=num_strata)\n",
    "    sampled_indices = stratified_sample(strata, sample_ratio=sample_ratio)\n",
    "    \n",
    "    sampled_vertices = vertices[sampled_indices]\n",
    "    sampled_attributes = attributes[sampled_indices]\n",
    "    \n",
    "    return sampled_vertices, sampled_attributes, sampled_indices\n"
   ]
  },
  {
   "cell_type": "code",
   "execution_count": 6,
   "metadata": {},
   "outputs": [],
   "source": [
    "import matplotlib.pyplot as plt\n",
    "\n",
    "def plot_strata_histograms(displacement_magnitude, strata_indices, num_bins=30):\n",
    "    unique_strata = np.unique(strata_indices)\n",
    "    num_strata = len(unique_strata)\n",
    "\n",
    "    plt.figure(figsize=(15, 3 * num_strata))\n",
    "    \n",
    "    for i, stratum in enumerate(unique_strata):\n",
    "        stratum_values = displacement_magnitude[strata_indices == stratum]\n",
    "        plt.subplot(num_strata, 1, i + 1)\n",
    "        plt.hist(stratum_values, bins=num_bins, color='skyblue', edgecolor='black')\n",
    "        plt.title(f\"Stratum {stratum} (n={len(stratum_values)})\")\n",
    "        plt.xlabel(\"Displacement Magnitude\")\n",
    "        plt.ylabel(\"Frequency\")\n",
    "    \n",
    "    plt.tight_layout()\n",
    "    plt.show()\n"
   ]
  },
  {
   "cell_type": "code",
   "execution_count": 5,
   "metadata": {},
   "outputs": [
    {
     "name": "stdout",
     "output_type": "stream",
     "text": [
      "표본 수: 500\n"
     ]
    }
   ],
   "source": [
    "# 1. 데이터 생성\n",
    "N = 10000\n",
    "vertices = np.random.rand(N, 3)\n",
    "attributes = np.random.normal(0, 1, size=(N, 3))\n",
    "\n",
    "# 2. Displacement magnitude 계산\n",
    "displacement_magnitude = compute_displacement_magnitude(attributes)\n",
    "\n",
    "# 3. Strata 생성\n",
    "strata_indices = stratify_by_quantiles(displacement_magnitude, num_strata=5)\n",
    "\n",
    "# 4. 히스토그램 출력\n",
    "plot_strata_histograms(displacement_magnitude, strata_indices)\n",
    "\n",
    "# 5. 층화 표집\n",
    "sampled_vertices, sampled_attributes, sampled_indices = stratified_sample(\n",
    "    strata_indices, sample_ratio=0.05\n",
    "), attributes, vertices\n"
   ]
  }
 ],
 "metadata": {
  "kernelspec": {
   "display_name": ".venv",
   "language": "python",
   "name": "python3"
  },
  "language_info": {
   "codemirror_mode": {
    "name": "ipython",
    "version": 3
   },
   "file_extension": ".py",
   "mimetype": "text/x-python",
   "name": "python",
   "nbconvert_exporter": "python",
   "pygments_lexer": "ipython3",
   "version": "3.10.15"
  }
 },
 "nbformat": 4,
 "nbformat_minor": 2
}
