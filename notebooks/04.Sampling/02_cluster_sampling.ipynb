{
 "cells": [
  {
   "cell_type": "markdown",
   "metadata": {},
   "source": [
    "# 집략 샘플링(Cluster Sampling)\n",
    " - 전체를 비슷한 속성 기반 클러스터로 나눈 뒤 일부 클러스터만 샘플링\n",
    " - 고차원 feature 공간에서 유사 샘플이 많은 경우"
   ]
  }
 ],
 "metadata": {
  "language_info": {
   "name": "python"
  }
 },
 "nbformat": 4,
 "nbformat_minor": 2
}
