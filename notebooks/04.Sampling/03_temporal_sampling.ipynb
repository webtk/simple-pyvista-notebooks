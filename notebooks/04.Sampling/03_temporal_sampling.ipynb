{
 "cells": [
  {
   "cell_type": "markdown",
   "metadata": {},
   "source": [
    "# 시간 기반 샘플링(Temporal Sampling)\n",
    " - 시간 순서 고려한 샘플링\n",
    " - 과거/미래 예측 문제\n",
    " - 순서 보존이 중요한 경우"
   ]
  },
  {
   "cell_type": "markdown",
   "metadata": {},
   "source": [
    "# "
   ]
  }
 ],
 "metadata": {
  "language_info": {
   "name": "python"
  }
 },
 "nbformat": 4,
 "nbformat_minor": 2
}
