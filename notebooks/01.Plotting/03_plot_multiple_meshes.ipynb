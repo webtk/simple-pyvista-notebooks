{
 "cells": [
  {
   "cell_type": "markdown",
   "metadata": {},
   "source": [
    "# 다중 메시 플로팅과 인터랙티브 컨트롤 패널\n",
    "\n",
    "이 노트북에서는 PyVista가 제공하는 3개의 메시 샘플을 별도의 plotter로 동시에 전시하고, \n",
    "인터랙티브한 control panel을 추가하여 다음과 같은 기능을 구현합니다:\n",
    "\n",
    "1. 3개의 메시 샘플을 별도의 plotter로 동시 전시\n",
    "2. Control panel을 통한 현재 picking된 element 정보 출력\n",
    "3. 카메라 동기화 기능 (기준 plotter 선택 가능)\n",
    "4. 각 plotter의 개별 제어 기능"
   ]
  },
  {
   "cell_type": "code",
   "execution_count": 1,
   "metadata": {},
   "outputs": [],
   "source": [
    "import pyvista as pv\n",
    "import numpy as np\n",
    "from ipywidgets import (\n",
    "    VBox, HBox, Button, Label, Text, Checkbox, \n",
    "    Dropdown, HTML, Output, Layout\n",
    ")\n",
    "import ipywidgets as widgets\n",
    "from IPython.display import display, clear_output\n",
    "\n",
    "# PyVista 설정\n",
    "pv.set_plot_theme('document')\n",
    "pv.global_theme.show_edges = True\n",
    "pv.global_theme.edge_color = 'black'\n",
    "pv.global_theme.line_width = 1.0"
   ]
  },
  {
   "cell_type": "markdown",
   "metadata": {},
   "source": [
    "## 1. 메시 샘플 로드\n",
    "\n",
    "PyVista가 제공하는 3개의 다양한 메시 샘플을 로드합니다."
   ]
  },
  {
   "cell_type": "code",
   "execution_count": 2,
   "metadata": {},
   "outputs": [
    {
     "name": "stdout",
     "output_type": "stream",
     "text": [
      "구체 메시: 842개 점, 1680개 셀\n",
      "큐브 메시: 8개 점, 6개 셀\n",
      "실린더 메시: 400개 점, 102개 셀\n"
     ]
    }
   ],
   "source": [
    "# 3개의 메시 샘플 로드\n",
    "sphere = pv.Sphere(radius=1.0, center=(0, 0, 0))\n",
    "cube = pv.Cube(center=(3, 0, 0))\n",
    "cylinder = pv.Cylinder(center=(0, 3, 0), direction=[0, 0, 1], radius=0.5, height=2)\n",
    "\n",
    "print(f\"구체 메시: {sphere.n_points}개 점, {sphere.n_cells}개 셀\")\n",
    "print(f\"큐브 메시: {cube.n_points}개 점, {cube.n_cells}개 셀\")\n",
    "print(f\"실린더 메시: {cylinder.n_points}개 점, {cylinder.n_cells}개 셀\")"
   ]
  },
  {
   "cell_type": "markdown",
   "metadata": {},
   "source": [
    "## 2. 다중 Plotter 생성 및 설정\n",
    "\n",
    "3개의 별도 plotter를 생성하고 각각에 메시를 추가합니다."
   ]
  },
  {
   "cell_type": "code",
   "execution_count": 4,
   "metadata": {},
   "outputs": [
    {
     "data": {
      "application/vnd.jupyter.widget-view+json": {
       "model_id": "9006b49786914587932f457e8e774113",
       "version_major": 2,
       "version_minor": 0
      },
      "text/plain": [
       "HBox(children=(VBox(children=(VBox(children=(HTML(value='<h4>카메라 동기화</h4>'), VBox(children=(Label(value='기준 pl…"
      ]
     },
     "metadata": {},
     "output_type": "display_data"
    }
   ],
   "source": [
    "from pvn import MultiMeshViewer\n",
    "\n",
    "meshes = [sphere, cube, cylinder]\n",
    "viewer = MultiMeshViewer(meshes)\n",
    "viewer.show()"
   ]
  }
 ],
 "metadata": {
  "kernelspec": {
   "display_name": ".venv",
   "language": "python",
   "name": "python3"
  },
  "language_info": {
   "codemirror_mode": {
    "name": "ipython",
    "version": 3
   },
   "file_extension": ".py",
   "mimetype": "text/x-python",
   "name": "python",
   "nbconvert_exporter": "python",
   "pygments_lexer": "ipython3",
   "version": "3.10.15"
  }
 },
 "nbformat": 4,
 "nbformat_minor": 4
}
