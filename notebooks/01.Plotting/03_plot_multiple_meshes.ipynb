{
 "cells": [
  {
   "cell_type": "markdown",
   "metadata": {},
   "source": [
    "# 다중 메시 플로팅과 인터랙티브 컨트롤 패널\n",
    "\n",
    "이 노트북에서는 PyVista가 제공하는 3개의 메시 샘플을 별도의 plotter로 동시에 전시하고, \n",
    "인터랙티브한 control panel을 추가하여 다음과 같은 기능을 구현합니다:\n",
    "\n",
    "1. 3개의 메시 샘플을 별도의 plotter로 동시 전시\n",
    "2. Control panel을 통한 현재 picking된 element 정보 출력\n",
    "3. 카메라 동기화 기능 (기준 plotter 선택 가능)\n",
    "4. 각 plotter의 개별 제어 기능"
   ]
  },
  {
   "cell_type": "code",
   "execution_count": 1,
   "metadata": {},
   "outputs": [],
   "source": [
    "import pyvista as pv\n",
    "import numpy as np\n",
    "from ipywidgets import (\n",
    "    VBox, HBox, Button, Label, Text, Checkbox, \n",
    "    Dropdown, HTML, Output, Layout\n",
    ")\n",
    "import ipywidgets as widgets\n",
    "from IPython.display import display, clear_output\n",
    "\n",
    "# PyVista 설정\n",
    "pv.set_plot_theme('document')\n",
    "pv.global_theme.show_edges = True\n",
    "pv.global_theme.edge_color = 'black'\n",
    "pv.global_theme.line_width = 1.0"
   ]
  },
  {
   "cell_type": "markdown",
   "metadata": {},
   "source": [
    "## 1. 메시 샘플 로드\n",
    "\n",
    "PyVista가 제공하는 3개의 다양한 메시 샘플을 로드합니다."
   ]
  },
  {
   "cell_type": "code",
   "execution_count": 2,
   "metadata": {},
   "outputs": [
    {
     "name": "stdout",
     "output_type": "stream",
     "text": [
      "구체 메시: 842개 점, 1680개 셀\n",
      "큐브 메시: 8개 점, 6개 셀\n",
      "실린더 메시: 400개 점, 102개 셀\n"
     ]
    }
   ],
   "source": [
    "# 3개의 메시 샘플 로드\n",
    "sphere = pv.Sphere(radius=1.0, center=(0, 0, 0))\n",
    "cube = pv.Cube(center=(3, 0, 0))\n",
    "cylinder = pv.Cylinder(center=(0, 3, 0), direction=[0, 0, 1], radius=0.5, height=2)\n",
    "\n",
    "print(f\"구체 메시: {sphere.n_points}개 점, {sphere.n_cells}개 셀\")\n",
    "print(f\"큐브 메시: {cube.n_points}개 점, {cube.n_cells}개 셀\")\n",
    "print(f\"실린더 메시: {cylinder.n_points}개 점, {cylinder.n_cells}개 셀\")"
   ]
  },
  {
   "cell_type": "markdown",
   "metadata": {},
   "source": [
    "## 2. 다중 Plotter 생성 및 설정\n",
    "\n",
    "3개의 별도 plotter를 생성하고 각각에 메시를 추가합니다."
   ]
  },
  {
   "cell_type": "code",
   "execution_count": 3,
   "metadata": {},
   "outputs": [
    {
     "data": {
      "application/vnd.jupyter.widget-view+json": {
       "model_id": "4933d3e1512549cdaae378eb627dbf26",
       "version_major": 2,
       "version_minor": 0
      },
      "text/plain": [
       "HBox(children=(VBox(children=(VBox(children=(HTML(value='<h4>카메라 동기화</h4>'), VBox(children=(Label(value='기준 pl…"
      ]
     },
     "metadata": {},
     "output_type": "display_data"
    },
    {
     "ename": "AttributeError",
     "evalue": "'Plotter' object has no attribute 'disable_clipping'",
     "output_type": "error",
     "traceback": [
      "\u001b[0;31m---------------------------------------------------------------------------\u001b[0m",
      "\u001b[0;31mAttributeError\u001b[0m                            Traceback (most recent call last)",
      "File \u001b[0;32m~/workspaces/webtk25/simple-pyvista-notebooks/pvn/multi_mesh_viewer.py:49\u001b[0m, in \u001b[0;36mMultiPlotterControlPanel.setup_ui.<locals>.<lambda>\u001b[0;34m(btn, idx)\u001b[0m\n\u001b[1;32m     46\u001b[0m     \u001b[38;5;28mself\u001b[39m\u001b[38;5;241m.\u001b[39mreset_camera_btns\u001b[38;5;241m.\u001b[39mappend(reset_cam_btn)\n\u001b[1;32m     48\u001b[0m     reset_clip_btn \u001b[38;5;241m=\u001b[39m Button(description\u001b[38;5;241m=\u001b[39m\u001b[38;5;124mf\u001b[39m\u001b[38;5;124m\"\u001b[39m\u001b[38;5;132;01m{\u001b[39;00mname\u001b[38;5;132;01m}\u001b[39;00m\u001b[38;5;124m 클리핑 리셋\u001b[39m\u001b[38;5;124m\"\u001b[39m, button_style\u001b[38;5;241m=\u001b[39m\u001b[38;5;124m'\u001b[39m\u001b[38;5;124mwarning\u001b[39m\u001b[38;5;124m'\u001b[39m)\n\u001b[0;32m---> 49\u001b[0m     reset_clip_btn\u001b[38;5;241m.\u001b[39mon_click(\u001b[38;5;28;01mlambda\u001b[39;00m btn, idx\u001b[38;5;241m=\u001b[39mi: \u001b[38;5;28;43mself\u001b[39;49m\u001b[38;5;241;43m.\u001b[39;49m\u001b[43mreset_clipping\u001b[49m\u001b[43m(\u001b[49m\u001b[43midx\u001b[49m\u001b[43m)\u001b[49m)\n\u001b[1;32m     50\u001b[0m     \u001b[38;5;28mself\u001b[39m\u001b[38;5;241m.\u001b[39mreset_clipping_btns\u001b[38;5;241m.\u001b[39mappend(reset_clip_btn)\n\u001b[1;32m     52\u001b[0m \u001b[38;5;66;03m# 모든 plotter 제어 버튼들\u001b[39;00m\n",
      "File \u001b[0;32m~/workspaces/webtk25/simple-pyvista-notebooks/pvn/multi_mesh_viewer.py:134\u001b[0m, in \u001b[0;36mMultiPlotterControlPanel.reset_clipping\u001b[0;34m(self, plotter_index)\u001b[0m\n\u001b[1;32m    132\u001b[0m \u001b[38;5;28;01mdef\u001b[39;00m\u001b[38;5;250m \u001b[39m\u001b[38;5;21mreset_clipping\u001b[39m(\u001b[38;5;28mself\u001b[39m, plotter_index):\n\u001b[1;32m    133\u001b[0m \u001b[38;5;250m    \u001b[39m\u001b[38;5;124;03m\"\"\"특정 plotter의 클리핑을 리셋합니다.\"\"\"\u001b[39;00m\n\u001b[0;32m--> 134\u001b[0m     \u001b[38;5;28;43mself\u001b[39;49m\u001b[38;5;241;43m.\u001b[39;49m\u001b[43mplotters\u001b[49m\u001b[43m[\u001b[49m\u001b[43mplotter_index\u001b[49m\u001b[43m]\u001b[49m\u001b[38;5;241;43m.\u001b[39;49m\u001b[43mdisable_clipping\u001b[49m()\n\u001b[1;32m    135\u001b[0m     \u001b[38;5;28mprint\u001b[39m(\u001b[38;5;124mf\u001b[39m\u001b[38;5;124m\"\u001b[39m\u001b[38;5;132;01m{\u001b[39;00m\u001b[38;5;28mself\u001b[39m\u001b[38;5;241m.\u001b[39mmesh_names[plotter_index]\u001b[38;5;132;01m}\u001b[39;00m\u001b[38;5;124m의 클리핑이 리셋되었습니다.\u001b[39m\u001b[38;5;124m\"\u001b[39m)\n",
      "\u001b[0;31mAttributeError\u001b[0m: 'Plotter' object has no attribute 'disable_clipping'"
     ]
    },
    {
     "ename": "AttributeError",
     "evalue": "'Plotter' object has no attribute 'disable_clipping'",
     "output_type": "error",
     "traceback": [
      "\u001b[0;31m---------------------------------------------------------------------------\u001b[0m",
      "\u001b[0;31mAttributeError\u001b[0m                            Traceback (most recent call last)",
      "File \u001b[0;32m~/workspaces/webtk25/simple-pyvista-notebooks/pvn/multi_mesh_viewer.py:146\u001b[0m, in \u001b[0;36mMultiPlotterControlPanel.reset_all_clipping\u001b[0;34m(self, button)\u001b[0m\n\u001b[1;32m    144\u001b[0m \u001b[38;5;250m\u001b[39m\u001b[38;5;124;03m\"\"\"모든 plotter의 클리핑을 리셋합니다.\"\"\"\u001b[39;00m\n\u001b[1;32m    145\u001b[0m \u001b[38;5;28;01mfor\u001b[39;00m plotter \u001b[38;5;129;01min\u001b[39;00m \u001b[38;5;28mself\u001b[39m\u001b[38;5;241m.\u001b[39mplotters:\n\u001b[0;32m--> 146\u001b[0m     \u001b[43mplotter\u001b[49m\u001b[38;5;241;43m.\u001b[39;49m\u001b[43mdisable_clipping\u001b[49m()\n\u001b[1;32m    147\u001b[0m \u001b[38;5;28mprint\u001b[39m(\u001b[38;5;124m\"\u001b[39m\u001b[38;5;124m모든 plotter의 클리핑이 리셋되었습니다.\u001b[39m\u001b[38;5;124m\"\u001b[39m)\n",
      "\u001b[0;31mAttributeError\u001b[0m: 'Plotter' object has no attribute 'disable_clipping'"
     ]
    }
   ],
   "source": [
    "from pvn import MultiMeshViewer\n",
    "\n",
    "meshes = [sphere, cube, cylinder]\n",
    "viewer = MultiMeshViewer(meshes)\n",
    "viewer.show()"
   ]
  }
 ],
 "metadata": {
  "kernelspec": {
   "display_name": "webtk_pvn_310",
   "language": "python",
   "name": "python3"
  },
  "language_info": {
   "codemirror_mode": {
    "name": "ipython",
    "version": 3
   },
   "file_extension": ".py",
   "mimetype": "text/x-python",
   "name": "python",
   "nbconvert_exporter": "python",
   "pygments_lexer": "ipython3",
   "version": "3.10.13"
  }
 },
 "nbformat": 4,
 "nbformat_minor": 4
}
