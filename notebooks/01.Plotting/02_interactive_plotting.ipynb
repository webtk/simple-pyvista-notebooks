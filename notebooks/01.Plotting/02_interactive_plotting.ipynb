{
 "cells": [
  {
   "cell_type": "markdown",
   "id": "3505ffa1",
   "metadata": {},
   "source": [
    "# Mesh Visualization and simple interaction\n",
    " - 카메라 변경\n",
    " - 투명도, 모서리(edge) 두께 조절\n",
    " - Element(face) 선택"
   ]
  },
  {
   "cell_type": "code",
   "execution_count": 1,
   "id": "24504ae3",
   "metadata": {},
   "outputs": [
    {
     "name": "stdout",
     "output_type": "stream",
     "text": [
      "=== Mesh 정보 ===\n",
      "셀 개수: 35,750\n",
      "정점 개수: 17,859\n",
      "경계: (-38.80726623535156, 68.2129135131836, -160.80523681640625, 17.79555320739746, 0.25338640809059143, 65.26591491699219)\n",
      "Manifold: True\n",
      "부피: 144010.26\n",
      "표면적: 36966.79\n",
      "중심점: (14.703, -71.505, 32.760)\n"
     ]
    },
    {
     "data": {
      "application/vnd.jupyter.widget-view+json": {
       "model_id": "302a997d744141d28141f6e2c08621f1",
       "version_major": 2,
       "version_minor": 0
      },
      "text/plain": [
       "HBox(children=(VBox(children=(VBox(children=(HTML(value='<h3>제어 패널</h3>'), HTML(value='<h4>카메라 뷰</h4>'), HBox(…"
      ]
     },
     "execution_count": 1,
     "metadata": {},
     "output_type": "execute_result"
    }
   ],
   "source": [
    "from pvn.interactive_mesh_viewer import InteractiveMeshViewer\n",
    "# STL 파일 경로\n",
    "stl_filepath = '../../data/10_30.stl'\n",
    "viewer = InteractiveMeshViewer(stl_filepath)\n",
    "viewer.show()"
   ]
  }
 ],
 "metadata": {
  "kernelspec": {
   "display_name": ".venv",
   "language": "python",
   "name": "python3"
  },
  "language_info": {
   "codemirror_mode": {
    "name": "ipython",
    "version": 3
   },
   "file_extension": ".py",
   "mimetype": "text/x-python",
   "name": "python",
   "nbconvert_exporter": "python",
   "pygments_lexer": "ipython3",
   "version": "3.10.15"
  }
 },
 "nbformat": 4,
 "nbformat_minor": 5
}
