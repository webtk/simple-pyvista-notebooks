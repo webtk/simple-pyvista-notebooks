{
 "cells": [
  {
   "cell_type": "markdown",
   "metadata": {},
   "source": [
    "# Field Visualization"
   ]
  },
  {
   "cell_type": "code",
   "execution_count": 6,
   "metadata": {},
   "outputs": [],
   "source": [
    "import pyvista as pv\n",
    "import numpy as np\n",
    "import pandas as pd\n",
    "import matplotlib.pyplot as plt\n",
    "\n",
    "pv.global_theme.jupyter_backend = 'client'\n",
    "pv.start_xvfb()"
   ]
  },
  {
   "cell_type": "code",
   "execution_count": 2,
   "metadata": {},
   "outputs": [
    {
     "data": {
      "text/html": [
       "\n",
       "<table style='width: 100%;'>\n",
       "<tr><th>PolyData</th><th>Information</th></tr>\n",
       "<tr><td>N Cells</td><td>35750</td></tr>\n",
       "<tr><td>N Points</td><td>17859</td></tr>\n",
       "<tr><td>N Strips</td><td>0</td></tr>\n",
       "<tr><td>X Bounds</td><td>-3.881e+01, 6.821e+01</td></tr>\n",
       "<tr><td>Y Bounds</td><td>-1.608e+02, 1.780e+01</td></tr>\n",
       "<tr><td>Z Bounds</td><td>2.534e-01, 6.527e+01</td></tr>\n",
       "<tr><td>N Arrays</td><td>0</td></tr>\n",
       "</table>\n",
       "\n"
      ],
      "text/plain": [
       "PolyData (0x7fd4e108eaa0)\n",
       "  N Cells:    35750\n",
       "  N Points:   17859\n",
       "  N Strips:   0\n",
       "  X Bounds:   -3.881e+01, 6.821e+01\n",
       "  Y Bounds:   -1.608e+02, 1.780e+01\n",
       "  Z Bounds:   2.534e-01, 6.527e+01\n",
       "  N Arrays:   0"
      ]
     },
     "execution_count": 2,
     "metadata": {},
     "output_type": "execute_result"
    }
   ],
   "source": [
    "stl_filepath = 'data/10_30.stl'\n",
    "mesh = pv.read(stl_filepath)\n",
    "mesh"
   ]
  },
  {
   "cell_type": "code",
   "execution_count": 3,
   "metadata": {},
   "outputs": [],
   "source": [
    "cell_key = 'fake_cell_values'\n",
    "mesh.cell_data[cell_key] = np.arange(mesh.n_cells, dtype=float)"
   ]
  },
  {
   "cell_type": "code",
   "execution_count": 4,
   "metadata": {},
   "outputs": [
    {
     "data": {
      "text/plain": [
       "(<FieldAssociation.CELL: 1>,\n",
       " pyvista_ndarray([0.0000e+00, 1.0000e+00, 2.0000e+00, ..., 3.5747e+04,\n",
       "                  3.5748e+04, 3.5749e+04], shape=(35750,)))"
      ]
     },
     "execution_count": 4,
     "metadata": {},
     "output_type": "execute_result"
    }
   ],
   "source": [
    "mesh.set_active_scalars(cell_key)"
   ]
  },
  {
   "cell_type": "code",
   "execution_count": null,
   "metadata": {},
   "outputs": [
    {
     "data": {
      "application/vnd.jupyter.widget-view+json": {
       "model_id": "4f3ad339b7c645749b110664d184ad1b",
       "version_major": 2,
       "version_minor": 0
      },
      "text/plain": [
       "Widget(value='<iframe src=\"http://localhost:42771/index.html?ui=P_0x7fd4c5b6dea0_11&reconnect=auto\" class=\"pyv…"
      ]
     },
     "metadata": {},
     "output_type": "display_data"
    },
    {
     "data": {
      "text/plain": [
       "[(257.98881595013785, 171.78115050671744, 276.0456429737632),\n",
       " (14.702823638916016, -71.5048418045044, 32.75965066254139),\n",
       " (0.0, 0.0, 1.0)]"
      ]
     },
     "execution_count": 24,
     "metadata": {},
     "output_type": "execute_result"
    }
   ],
   "source": [
    "mesh.plot(show_edges=True)"
   ]
  },
  {
   "cell_type": "code",
   "execution_count": 7,
   "metadata": {},
   "outputs": [
    {
     "data": {
      "text/html": [
       "<div>\n",
       "<style scoped>\n",
       "    .dataframe tbody tr th:only-of-type {\n",
       "        vertical-align: middle;\n",
       "    }\n",
       "\n",
       "    .dataframe tbody tr th {\n",
       "        vertical-align: top;\n",
       "    }\n",
       "\n",
       "    .dataframe thead th {\n",
       "        text-align: right;\n",
       "    }\n",
       "</style>\n",
       "<table border=\"1\" class=\"dataframe\">\n",
       "  <thead>\n",
       "    <tr style=\"text-align: right;\">\n",
       "      <th></th>\n",
       "      <th>fake_cell_values</th>\n",
       "    </tr>\n",
       "  </thead>\n",
       "  <tbody>\n",
       "    <tr>\n",
       "      <th>count</th>\n",
       "      <td>35750.000000</td>\n",
       "    </tr>\n",
       "    <tr>\n",
       "      <th>mean</th>\n",
       "      <td>17874.500000</td>\n",
       "    </tr>\n",
       "    <tr>\n",
       "      <th>std</th>\n",
       "      <td>10320.280398</td>\n",
       "    </tr>\n",
       "    <tr>\n",
       "      <th>min</th>\n",
       "      <td>0.000000</td>\n",
       "    </tr>\n",
       "    <tr>\n",
       "      <th>25%</th>\n",
       "      <td>8937.250000</td>\n",
       "    </tr>\n",
       "    <tr>\n",
       "      <th>50%</th>\n",
       "      <td>17874.500000</td>\n",
       "    </tr>\n",
       "    <tr>\n",
       "      <th>75%</th>\n",
       "      <td>26811.750000</td>\n",
       "    </tr>\n",
       "    <tr>\n",
       "      <th>max</th>\n",
       "      <td>35749.000000</td>\n",
       "    </tr>\n",
       "  </tbody>\n",
       "</table>\n",
       "</div>"
      ],
      "text/plain": [
       "       fake_cell_values\n",
       "count      35750.000000\n",
       "mean       17874.500000\n",
       "std        10320.280398\n",
       "min            0.000000\n",
       "25%         8937.250000\n",
       "50%        17874.500000\n",
       "75%        26811.750000\n",
       "max        35749.000000"
      ]
     },
     "execution_count": 7,
     "metadata": {},
     "output_type": "execute_result"
    }
   ],
   "source": [
    "df = pd.DataFrame({cell_key: mesh.cell_data[cell_key]})\n",
    "df.describe()"
   ]
  },
  {
   "cell_type": "markdown",
   "metadata": {},
   "source": [
    "# Filters\n",
    " - PolyData class provides various filters like threshold, elevate, clip, etc.\n",
    "\n",
    "## Clip / Slice\n",
    " - clip(): 지정한 평면(또는 평면 리스트)에 따라 Geometry 를 잘라냄\n",
    " - slice(): 지정한 평면에 따라 PolyData를 잘라 단면(슬라이스)를 추출\n",
    " - slice_along_axis(), slice_along_line(), slice_orthogonal() 등: 축이나 라인을 따라 연속으로 슬라이스 추출\n",
    "\n",
    "## geometry 변환\n",
    " - triangulate(): Polygon 형태의 셀을 삼각형으로 분할\n",
    " - clean(): 중복된 점 혹은 불필요한 셀 제거(VTK의 vtkCleanPolyData 대응)\n",
    " - connectivity(): 연결 요소 식별, 라벨(connected region ID)를 매긴 새로운 스칼라 데이터 생성\n",
    "\n",
    "## 추출 / 통계\n",
    " - extract_largest(): 연결 요소 중 가장 큰 파트를 추출\n",
    " - extract_feature_edges(): 크리스 엣지(crease edges), 경계 엣지(boundary edges) 등 분리해서 추출\n",
    " - extract_selection(): 셀 혹은 점(point)에 대한 마스크나 셀 ID 등을 기준으로 영역을 추출\n",
    " - elevation(): Z축(혹은 지정 축)에 따른 스칼라 값을 부여, 컬러 매핑 등에 활용\n",
    "\n",
    "## 표면 재처리 / 변환\n",
    " - decimate(): Mesh 수를 줄여서 간소화(simplify) (VTK decimation 알고리즘 사용)\n",
    " - smooth(): 표면을 부드럽게 만듦(라플라시안 스무딩 등)\n",
    " - reflect(): 지정 평면을 기준으로 geometry 반사\n",
    " - rotate_x(), rotate_y(), rotate_z(): 각 축을 중심으로 메시 회전\n",
    " - flip_x(), flip_y(), flip_z(): 각 축에 대해 좌우 반전\n",
    "\n",
    "## 부피 확장 / Sweep\n",
    " - extrude(): 주어진 방향(벡터)으로 PolyData(2D 단면 등)를 늘여 3차원 형상 생성\n",
    " - extrude_rotate(): 회전(sweep)을 적용하여 회전체(회전판) 같은 3차원 형상 생성\n",
    " - revolve(): 지정 축 또는 곡선을 따라 회전/접합하여 3차원 형상 생성\n",
    "\n",
    "## 곡률, 노멀 등 계산\n",
    " - curvature(): 곡률 계산하여 스칼라 필드로 지정\n",
    " - compute_normals(): 표면 노멀 다시 계산, PolyData에 노멀 벡터 저장\n",
    " - plot_curvature(): 메시 곡률 계산하여 간단히 시각화(내부에서 curvature() 활용)\n",
    "\n",
    "## 기타\n",
    " - boolean_add(), boolean_cut(), boolean_intersection(): boolean 연산을 통해 두 PolyData 간 합집합/차집합/교집합 등 계산\n",
    " - merge(): 여러 PolyData를 하나로 병합\n",
    " - delaunay_2d(): 2D 점 집합에 대한 Delaunay 삼각 분할 실행하여 PolyData 생성\n",
    " - project_points_to_plane(): 포인트들을 특정 평면에 투영(projection)\n",
    " - cell_data_to_point_data(), point_data_to_cell_data(): 셀/포인트 간 데이터(스칼라, 벡터 등) 변환"
   ]
  },
  {
   "cell_type": "code",
   "execution_count": 19,
   "metadata": {},
   "outputs": [
    {
     "data": {
      "text/html": [
       "<table style='width: 100%;'><tr><th>Header</th><th>Data Arrays</th></tr><tr><td>\n",
       "<table style='width: 100%;'>\n",
       "<tr><th>UnstructuredGrid</th><th>Information</th></tr>\n",
       "<tr><td>N Cells</td><td>8001</td></tr>\n",
       "<tr><td>N Points</td><td>4783</td></tr>\n",
       "<tr><td>X Bounds</td><td>-3.788e+01, 6.707e+01</td></tr>\n",
       "<tr><td>Y Bounds</td><td>-1.267e+02, 1.780e+01</td></tr>\n",
       "<tr><td>Z Bounds</td><td>2.677e-01, 6.492e+01</td></tr>\n",
       "<tr><td>N Arrays</td><td>1</td></tr>\n",
       "</table>\n",
       "\n",
       "</td><td>\n",
       "<table style='width: 100%;'>\n",
       "<tr><th>Name</th><th>Field</th><th>Type</th><th>N Comp</th><th>Min</th><th>Max</th></tr>\n",
       "<tr><td><b>fake_cell_values</b></td><td>Cells</td><td>float64</td><td>1</td><td>1.387e+04</td><td>2.187e+04</td></tr>\n",
       "</table>\n",
       "\n",
       "</td></tr> </table>"
      ],
      "text/plain": [
       "UnstructuredGrid (0x7fd4c585b9a0)\n",
       "  N Cells:    8001\n",
       "  N Points:   4783\n",
       "  X Bounds:   -3.788e+01, 6.707e+01\n",
       "  Y Bounds:   -1.267e+02, 1.780e+01\n",
       "  Z Bounds:   2.677e-01, 6.492e+01\n",
       "  N Arrays:   1"
      ]
     },
     "execution_count": 19,
     "metadata": {},
     "output_type": "execute_result"
    }
   ],
   "source": [
    "threshed = mesh.threshold([17874-4000, 17874+4000])\n",
    "threshed"
   ]
  },
  {
   "cell_type": "code",
   "execution_count": 20,
   "metadata": {},
   "outputs": [
    {
     "data": {
      "application/vnd.jupyter.widget-view+json": {
       "model_id": "bb890d0f7c99476c9ced008c33982d73",
       "version_major": 2,
       "version_minor": 0
      },
      "text/plain": [
       "Widget(value='<iframe src=\"http://localhost:42771/index.html?ui=P_0x7fd4c5b740a0_7&reconnect=auto\" class=\"pyvi…"
      ]
     },
     "metadata": {},
     "output_type": "display_data"
    }
   ],
   "source": [
    "threshed.plot(scalars=cell_key, show_edges=True)"
   ]
  },
  {
   "cell_type": "code",
   "execution_count": 21,
   "metadata": {},
   "outputs": [
    {
     "data": {
      "application/vnd.jupyter.widget-view+json": {
       "model_id": "a2a20062722149de8e30beaebda10b74",
       "version_major": 2,
       "version_minor": 0
      },
      "text/plain": [
       "Widget(value='<iframe src=\"http://localhost:42771/index.html?ui=P_0x7fd4d8bdf220_8&reconnect=auto\" class=\"pyvi…"
      ]
     },
     "metadata": {},
     "output_type": "display_data"
    }
   ],
   "source": [
    "slices = mesh.slice_orthogonal()\n",
    "slices.plot()"
   ]
  },
  {
   "cell_type": "code",
   "execution_count": 22,
   "metadata": {},
   "outputs": [
    {
     "data": {
      "application/vnd.jupyter.widget-view+json": {
       "model_id": "897d92edf62a4a1a8904c09ff5885e1f",
       "version_major": 2,
       "version_minor": 0
      },
      "text/plain": [
       "Widget(value='<iframe src=\"http://localhost:42771/index.html?ui=P_0x7fd4c6469c60_9&reconnect=auto\" class=\"pyvi…"
      ]
     },
     "metadata": {},
     "output_type": "display_data"
    }
   ],
   "source": [
    "result = threshed.elevation() #.clip(normal='z').slice_orthogonal()\n",
    "result.plot()"
   ]
  }
 ],
 "metadata": {
  "kernelspec": {
   "display_name": ".venv",
   "language": "python",
   "name": "python3"
  },
  "language_info": {
   "codemirror_mode": {
    "name": "ipython",
    "version": 3
   },
   "file_extension": ".py",
   "mimetype": "text/x-python",
   "name": "python",
   "nbconvert_exporter": "python",
   "pygments_lexer": "ipython3",
   "version": "3.10.15"
  }
 },
 "nbformat": 4,
 "nbformat_minor": 2
}
