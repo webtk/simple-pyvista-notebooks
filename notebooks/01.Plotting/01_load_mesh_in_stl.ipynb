{
 "cells": [
  {
   "cell_type": "markdown",
   "metadata": {},
   "source": [
    "# Loading a mesh from STL file(binary)\n",
    " - STL 은 제품의 표면 기하 정보를 삼각형으로 표현함\n",
    " - STL 파일에는 스케일이나 단위 정보, 컬러 정보 등이 포함되어 있지 않음\n",
    " - 보통 빠르게 3D 프린팅 등을 통해 빠르게 프로토타이핑 하는데 사용됨"
   ]
  },
  {
   "cell_type": "code",
   "execution_count": 1,
   "metadata": {},
   "outputs": [],
   "source": [
    "import pyvista as pv\n",
    "pv.global_theme.jupyter_backend = 'client'\n",
    "pv.start_xvfb()"
   ]
  },
  {
   "cell_type": "markdown",
   "metadata": {},
   "source": [
    "# STL(Stereolithography CAD) 파일의 구조\n",
    " - https://en.wikipedia.org/wiki/STL_(file_format)\n",
    " - An STL file describes a raw, unstructured triangulated surface by the unit normal and vertices (ordered by the right-hand rule[2]) of the triangles"
   ]
  },
  {
   "cell_type": "code",
   "execution_count": 2,
   "metadata": {},
   "outputs": [],
   "source": [
    "# ASCII 또는 Binary 형식으로 저장된 STL 파일을 읽어서 표시합니다.\n",
    "stl_filepath = '../../data/10_30.stl'"
   ]
  },
  {
   "cell_type": "code",
   "execution_count": 3,
   "metadata": {},
   "outputs": [
    {
     "name": "stdout",
     "output_type": "stream",
     "text": [
      "Visualization Toolkit generated SLA File\u0000\u0000\u0000\u0000\u0000\u0000\u0000\u0000\u0000\u0000\u0000\u0000\u0000\u0000\u0000\u0000\u0000\u0000\u0000\u0000\u0000\u0000\u0000\u0000\u0000\u0000\u0000\u0000\u0000\u0000\u0000\u0000\u0000\u0000\u0000\u0000\u0000\u0000\u0000\u0000\n",
      "35750\n"
     ]
    }
   ],
   "source": [
    "with open('../../data/10_30.stl', 'rb') as f:\n",
    "    header = f.read(80)\n",
    "    header_str = header.decode('utf-8')\n",
    "    print(header_str)\n",
    "    n_triangles = int.from_bytes(f.read(4), 'little')\n",
    "    print(n_triangles)"
   ]
  },
  {
   "cell_type": "markdown",
   "metadata": {},
   "source": [
    " - 파일을 직접 파싱하여 triangle 개수를 직접 확인(예: 35,750)"
   ]
  },
  {
   "cell_type": "code",
   "execution_count": 4,
   "metadata": {},
   "outputs": [],
   "source": [
    "mesh = pv.read(stl_filepath)"
   ]
  },
  {
   "cell_type": "code",
   "execution_count": 5,
   "metadata": {},
   "outputs": [
    {
     "data": {
      "text/plain": [
       "pyvista.core.pointset.PolyData"
      ]
     },
     "execution_count": 5,
     "metadata": {},
     "output_type": "execute_result"
    }
   ],
   "source": [
    "type(mesh)"
   ]
  },
  {
   "cell_type": "markdown",
   "metadata": {},
   "source": [
    "# PolyData 클래스\n",
    " - 3D Surface Mesh 에 대한 정보를 표현하는 core class\n",
    " - Mesh 에 대한 복제, 시각화, 처리(decimate, smoothing, rotate, sampling 등) 지원"
   ]
  },
  {
   "cell_type": "code",
   "execution_count": 6,
   "metadata": {},
   "outputs": [
    {
     "data": {
      "text/html": [
       "\n",
       "<table style='width: 100%;'>\n",
       "<tr><th>PolyData</th><th>Information</th></tr>\n",
       "<tr><td>N Cells</td><td>35750</td></tr>\n",
       "<tr><td>N Points</td><td>17859</td></tr>\n",
       "<tr><td>N Strips</td><td>0</td></tr>\n",
       "<tr><td>X Bounds</td><td>-3.881e+01, 6.821e+01</td></tr>\n",
       "<tr><td>Y Bounds</td><td>-1.608e+02, 1.780e+01</td></tr>\n",
       "<tr><td>Z Bounds</td><td>2.534e-01, 6.527e+01</td></tr>\n",
       "<tr><td>N Arrays</td><td>0</td></tr>\n",
       "</table>\n",
       "\n"
      ],
      "text/plain": [
       "PolyData (0x74c602354460)\n",
       "  N Cells:    35750\n",
       "  N Points:   17859\n",
       "  N Strips:   0\n",
       "  X Bounds:   -3.881e+01, 6.821e+01\n",
       "  Y Bounds:   -1.608e+02, 1.780e+01\n",
       "  Z Bounds:   2.534e-01, 6.527e+01\n",
       "  N Arrays:   0"
      ]
     },
     "execution_count": 6,
     "metadata": {},
     "output_type": "execute_result"
    }
   ],
   "source": [
    "mesh"
   ]
  },
  {
   "cell_type": "markdown",
   "metadata": {},
   "source": [
    "## PolyData 의 핵심 속성\n",
    " - N Cells: cell의 개수\n",
    "    - cell은 PolyData의 기본 구성 단위 요소로 삼각형, 선분, 점을 모두 포함함\n",
    "    - face는 표면에 존재하는 다각형 요소만을 의미하므로 삼각형, 사각형 등을 의미함(선분과 점이 빠짐)\n",
    "    - 즉 모든 face는 cell 이지만, cell이 face인 것은 아님\n",
    "    - STL 파일에서는 일반적으로 표면을 삼각형으로 표현하기 때문에 3개의 꼭짓점 다른 말로 정점(vertex)를 가짐\n",
    " - N Points: 정점의 개수\n",
    "    - 삼각형 셀들은 정점들을 공유할 수 있음\n",
    "    - 예를 들어 두 삼각형이 같은 정점을 사용하는 것이 가능\n",
    "    - 때문에 정점의 수는 삼각형 수보다 작을 수 있음(일반적)\n",
    " - N Strips: 삼각형을 배치할 때 공간 효율을 위해 사용하는 스트립의 개수\n",
    "    - STL 에서는 사용되지 않음\n",
    " - X/Y/Z Bounds: 각 축의 경계 범위(bounding box)\n",
    "    - 즉 x, y, z 축의 최소, 최대 값들\n",
    "    - 이 값은 STL에 저장되어 있지 않고, 로드 시 계산 됨\n",
    " - N Arrays: 데이터 배열\n",
    "    - 정점 혹은 면에 할당 된 변수(예: color, normal 등)들\n",
    "    - STL은 보통 단순 Geometry만 포함하므로 데이터 배열이 없음"
   ]
  },
  {
   "cell_type": "code",
   "execution_count": 58,
   "metadata": {},
   "outputs": [
    {
     "data": {
      "text/plain": [
       "524"
      ]
     },
     "execution_count": 58,
     "metadata": {},
     "output_type": "execute_result"
    }
   ],
   "source": [
    "len(dir(mesh))"
   ]
  },
  {
   "cell_type": "code",
   "execution_count": 59,
   "metadata": {},
   "outputs": [
    {
     "data": {
      "text/plain": [
       "216"
      ]
     },
     "execution_count": 59,
     "metadata": {},
     "output_type": "execute_result"
    }
   ],
   "source": [
    "len([i for i in dir(mesh) if i[0].islower()])"
   ]
  },
  {
   "cell_type": "markdown",
   "metadata": {},
   "source": [
    "\n",
    "# PolyData의 상세 속성\n",
    " - 정말 많은 속성이 정의되어 있음\n",
    " - 소문자로 시작하는 속성이 자주 사용될 수 있는 것들인데, 이것들만 해도 216개 임\n",
    " - 아래 표는 그 중 추려 본 것\n",
    "\n",
    "| 속성 이름        | 설명                                                       |\n",
    "| ------------ | -------------------------------------------------------- |\n",
    "| `points`     | 정점(vertices) 좌표를 포함하는 NumPy 배열 (`(N, 3)` 형태)             |\n",
    "| `cells`      | 셀(삼각형, 사각형 등)의 정점 인덱스 정보                                 |\n",
    "| `faces`      | PolyData의 면(faces) 정의 배열 (특히 삼각형/사각형)                    |\n",
    "| `n_points`   | 정점 개수 (`len(mesh.points)`)                               |\n",
    "| `n_cells`    | 셀 개수 (`len(mesh.cells)`)                                 |\n",
    "| `bounds`     | 메시의 경계값 (x\\_min, x\\_max, y\\_min, y\\_max, z\\_min, z\\_max) |\n",
    "| `point_data` | 각 정점에 연결된 데이터 (예: 색상, 벡터 등)                              |\n",
    "| `cell_data`  | 각 셀에 연결된 데이터                                             |\n",
    "| `field_data` | 전체 메시에 연결된 데이터 (메타데이터 등)                                 |\n",
    "| `lines`      | 선 정보가 있을 경우 해당 데이터                                       |\n",
    "| `volume`     | 메시의 부피 (닫힌 경우에만 유의미)                                     |\n",
    "| `area`       | 메시의 표면적                                                  |\n",
    "\n",
    "## cell_data 와 field_data 비교\n",
    "| 항목            | `cell_data`                        | `field_data`               |\n",
    "| ------------- | ---------------------------------- | -------------------------- |\n",
    "| **정의**        | 각 \\*\\*셀(cell)\\*\\*에 붙은 데이터          | 메시 전체에 붙은 **전역적인 메타데이터**   |\n",
    "| **대상 단위**     | 메시의 각 셀 (예: 삼각형 하나)                | 메시 전체 또는 외부 연산용 정보         |\n",
    "| **자료 구조**     | `DataSetAttributes` (key-value 형태) | `FieldData` (key-value 형태) |\n",
    "| **사용 예시**     | 셀마다 재질 번호, 품질 지표 등 저장              | 파일 메타정보, 전처리 상태 플래그 등      |\n",
    "| **크기 제약**     | 데이터의 길이는 `mesh.n_cells`와 같아야 함     | 제약 없음 (자유로운 배열 구조 가능)      |\n",
    "| **시각화 반영**    | 시각화에서 셀 색상 등으로 표현 가능               | 시각화에 직접 반영되지 않음            |\n",
    "| **파일 I/O 영향** | 대부분 포맷에 저장됨                        | 일부 포맷(STL 등)에서는 무시될 수 있음   |\n",
    "\n",
    "## 메시의 부피와 닫힘(watertight)의 의미\n",
    " - 메시에 구멍(hole)이나 틈(gap)이 없다는 의미\n",
    " - 즉 모든 가장자리(edge)가 두 면(faces) 이상으로 공유된다는 것을 의미\n",
    " - volume 은 메시가 닫힘 상태 일 때만 계산 가능\n",
    " - 시각화 시에는 잘 보이지 않는 틈이 있는 경우 주의 해야 함\n"
   ]
  },
  {
   "cell_type": "code",
   "execution_count": 52,
   "metadata": {},
   "outputs": [
    {
     "data": {
      "text/plain": [
       "True"
      ]
     },
     "execution_count": 52,
     "metadata": {},
     "output_type": "execute_result"
    }
   ],
   "source": [
    "mesh.is_manifold"
   ]
  },
  {
   "cell_type": "markdown",
   "metadata": {},
   "source": [
    "## 메시가 Manifold 하다는 것의 의미(is_manifold 가 True)\n",
    " - 모든 가장자리(edge)가 두 개 면에만 공유\n",
    " - 정점 주변이 연속적임(링 또는 팬을 구성)\n",
    " - 메시가 깨끗하게 잘 붙어 있는 표면, 즉 구멍이나 꼬인 곳 없이 연속적이고 매끄러운 상태를 의미\n",
    " - 3D Printing, 시뮬레이션에 있어서 중요"
   ]
  },
  {
   "cell_type": "code",
   "execution_count": 9,
   "metadata": {},
   "outputs": [],
   "source": [
    "vtk_file_path = '../../data/10_30.vtk'\n",
    "mesh.save(vtk_file_path)"
   ]
  },
  {
   "cell_type": "markdown",
   "metadata": {},
   "source": [
    "# VTK 파일 형식(version:5.1)\n",
    " - https://docs.vtk.org/en/latest/design_documents/VTKFileFormats.html\n",
    " - ASCII 로 구성된 5줄짜리 헤더 + 데이터 영역\n",
    " - 헤더에서 파일 형식이 ASCII, Binary, XML 인지 판단\n",
    " - 데이터 영역은 크게 POINTS, CELLS 섹션으로 나뉨"
   ]
  },
  {
   "cell_type": "code",
   "execution_count": 17,
   "metadata": {},
   "outputs": [],
   "source": [
    "import struct\n",
    "\n",
    "def binary_to_float(binary_data, byteorder='little'):\n",
    "    \"\"\"바이너리 데이터를 float로 변환\"\"\"\n",
    "    if len(binary_data) != 4:\n",
    "        raise ValueError(\"float32는 4바이트가 필요합니다\")\n",
    "    \n",
    "    # struct 모듈 사용\n",
    "    if byteorder == 'little':\n",
    "        return struct.unpack('<f', binary_data)[0]\n",
    "    else:\n",
    "        return struct.unpack('>f', binary_data)[0]\n"
   ]
  },
  {
   "cell_type": "code",
   "execution_count": 36,
   "metadata": {},
   "outputs": [
    {
     "name": "stdout",
     "output_type": "stream",
     "text": [
      "Version: # vtk DataFile Version 5.1\n",
      "Description: vtk output\n",
      "Format Type: BINARY\n",
      "Dataset Type: POINTS 17859 float\n",
      "Number of Polygons: 35751\n"
     ]
    }
   ],
   "source": [
    "vtk_file_path = '../../data/10_30.vtk'\n",
    "with open(vtk_file_path, 'rb') as f:\n",
    "    lines = []\n",
    "    \n",
    "    # ASCII 헤더 파트(첫 5줄)\n",
    "    for _ in range(5):\n",
    "        line = f.readline().decode('utf-8').strip()\n",
    "        lines.append(line)\n",
    "    \n",
    "    # header 정보 구조\n",
    "    version = lines[0]\n",
    "    description = lines[1]\n",
    "    format_type = lines[2].upper()\n",
    "    dataset_type = lines[4]\n",
    "    \n",
    "    # print header 정보\n",
    "    print(f\"Version: {version}\")\n",
    "    print(f\"Description: {description}\")\n",
    "    print(f\"Format Type: {format_type}\")\n",
    "    print(f\"Dataset Type: {dataset_type}\")\n",
    "\n",
    "    # 바이너리 데이터 파트 읽기\n",
    "    tokens = dataset_type.split()\n",
    "    d_name = tokens[0]\n",
    "    d_len = int(tokens[1])\n",
    "    d_type = tokens[2]\n",
    "\n",
    "    # POINTS 섹션 로드\n",
    "    # for _ in range(d_len):\n",
    "    #     x = binary_to_float(f.read(4), 'little')\n",
    "    #     y = binary_to_float(f.read(4), 'little')\n",
    "    #     z = binary_to_float(f.read(4), 'little')\n",
    "    # POINTS 섹션 스킵\n",
    "    f.seek(d_len * 4 * 3, 1)\n",
    "    \n",
    "    # CELLS 헤더 로드\n",
    "    lines = []\n",
    "    for _ in range(3):\n",
    "        line = f.readline().decode('utf-8').strip()\n",
    "        lines.append(line)\n",
    "    \n",
    "    split_line = lines[0]\n",
    "    polygons = lines[1]\n",
    "    offset = lines[2]\n",
    "\n",
    "    polygon_tokens = polygons.split()\n",
    "    n_polygons = int(polygon_tokens[1])\n",
    "    print(f\"Number of Polygons: {n_polygons}\")\n",
    "    \n",
    "    # CELLS 데이터 로드"
   ]
  }
 ],
 "metadata": {
  "kernelspec": {
   "display_name": ".venv",
   "language": "python",
   "name": "python3"
  },
  "language_info": {
   "codemirror_mode": {
    "name": "ipython",
    "version": 3
   },
   "file_extension": ".py",
   "mimetype": "text/x-python",
   "name": "python",
   "nbconvert_exporter": "python",
   "pygments_lexer": "ipython3",
   "version": "3.10.15"
  }
 },
 "nbformat": 4,
 "nbformat_minor": 4
}
