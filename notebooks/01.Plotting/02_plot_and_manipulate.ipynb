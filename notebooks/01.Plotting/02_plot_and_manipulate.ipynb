{
 "cells": [
  {
   "cell_type": "markdown",
   "id": "3505ffa1",
   "metadata": {},
   "source": [
    "# Mesh Visualization and simple interaction\n",
    " - 메쉬를 전시하고, 마우스 위치에 해당되는 필드 값 전시하기"
   ]
  }
 ],
 "metadata": {
  "language_info": {
   "name": "python"
  }
 },
 "nbformat": 4,
 "nbformat_minor": 5
}
