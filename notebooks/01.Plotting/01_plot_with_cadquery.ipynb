{
 "cells": [
  {
   "cell_type": "markdown",
   "id": "56c12566",
   "metadata": {},
   "source": [
    "# Loading STEP with CadQuery + Jupyter_CadQuery\n",
    " - CadQuery 는 OCCT 기반으로 시각화와 데이터 처리를 간소화 시킴\n",
    " - Jupyter_CadQuery 는 노트북으로 CAD 객체 관리, 시각화 시키는 것을 도와줌"
   ]
  },
  {
   "cell_type": "code",
   "execution_count": 2,
   "id": "d53351f3",
   "metadata": {},
   "outputs": [
    {
     "name": "stdout",
     "output_type": "stream",
     "text": [
      "+\n"
     ]
    },
    {
     "data": {
      "application/vnd.jupyter.widget-view+json": {
       "model_id": "aba50653c7df4ad585b17b5271eef51d",
       "version_major": 2,
       "version_minor": 0
      },
      "text/plain": [
       "CadViewerWidget(anchor=None, aspect_ratio=0.75, cad_width=800, control='trackball', glass=True, height=600, id…"
      ]
     },
     "metadata": {},
     "output_type": "display_data"
    },
    {
     "data": {
      "text/html": [
       "<div></div>"
      ],
      "text/plain": [
       "<IPython.core.display.HTML object>"
      ]
     },
     "metadata": {},
     "output_type": "display_data"
    },
    {
     "data": {
      "text/plain": [
       "<cad_viewer_widget.widget.CadViewer at 0x112993e90>"
      ]
     },
     "execution_count": 2,
     "metadata": {},
     "output_type": "execute_result"
    }
   ],
   "source": [
    "import cadquery as cq\n",
    "from OCP.STEPControl import STEPControl_Reader\n",
    "from OCP.IFSelect import IFSelect_RetDone\n",
    "# 또는 from jupyter_cadquery import show_object\n",
    "from jupyter_cadquery import show_object\n",
    "\n",
    "\n",
    "def load_step_file(path: str) -> cq.Shape:\n",
    "    reader = STEPControl_Reader()\n",
    "    status = reader.ReadFile(path)\n",
    "\n",
    "    if status != IFSelect_RetDone:\n",
    "        raise RuntimeError(f\"Failed to read STEP file: {path}\")\n",
    "\n",
    "    reader.TransferRoots()\n",
    "    shape = reader.OneShape()\n",
    "    return cq.Shape(shape)\n",
    "\n",
    "\n",
    "# STEP 파일 경로 (예: \"test.stp\")\n",
    "step_shape = load_step_file(\"../../data/fixed.step\")\n",
    "\n",
    "# Jupyter에서 시각화\n",
    "show_object(step_shape)"
   ]
  }
 ],
 "metadata": {
  "kernelspec": {
   "display_name": "webtk_pvn",
   "language": "python",
   "name": "python3"
  },
  "language_info": {
   "codemirror_mode": {
    "name": "ipython",
    "version": 3
   },
   "file_extension": ".py",
   "mimetype": "text/x-python",
   "name": "python",
   "nbconvert_exporter": "python",
   "pygments_lexer": "ipython3",
   "version": "3.11.11"
  }
 },
 "nbformat": 4,
 "nbformat_minor": 5
}
