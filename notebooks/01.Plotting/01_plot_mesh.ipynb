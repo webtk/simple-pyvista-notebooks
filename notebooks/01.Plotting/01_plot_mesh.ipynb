{
 "cells": [
  {
   "cell_type": "markdown",
   "metadata": {},
   "source": [
    "# Plotting a mesh using PolyData.plot()\n",
    " - PolyData 클래스 plot() 메소드는 다양한 옵션을 제공함\n",
    " - 많은 기능이 matplotlib 과 비슷한 방식으로 동작함"
   ]
  },
  {
   "cell_type": "code",
   "execution_count": 1,
   "metadata": {},
   "outputs": [],
   "source": [
    "import pyvista as pv\n",
    "pv.global_theme.jupyter_backend = 'client'\n",
    "pv.start_xvfb()\n",
    "stl_filepath = '../../data/10_30.stl'\n",
    "mesh = pv.read(stl_filepath)"
   ]
  },
  {
   "cell_type": "code",
   "execution_count": 2,
   "metadata": {},
   "outputs": [
    {
     "data": {
      "application/vnd.jupyter.widget-view+json": {
       "model_id": "fc0445cfa9924a2995b4c8cd3b9a968b",
       "version_major": 2,
       "version_minor": 0
      },
      "text/plain": [
       "Widget(value='<iframe src=\"http://localhost:43643/index.html?ui=P_0x7637f64131c0_0&reconnect=auto\" class=\"pyvi…"
      ]
     },
     "metadata": {},
     "output_type": "display_data"
    }
   ],
   "source": [
    "mesh.plot(color='tan')"
   ]
  },
  {
   "cell_type": "code",
   "execution_count": 3,
   "metadata": {},
   "outputs": [
    {
     "data": {
      "application/vnd.jupyter.widget-view+json": {
       "model_id": "74a1a583d1ba4285bbe9c83ac2fdab5b",
       "version_major": 2,
       "version_minor": 0
      },
      "text/plain": [
       "Widget(value='<iframe src=\"http://localhost:43643/index.html?ui=P_0x7637bd311e10_1&reconnect=auto\" class=\"pyvi…"
      ]
     },
     "metadata": {},
     "output_type": "display_data"
    }
   ],
   "source": [
    "mesh.plot(color='tan', show_edges=True)"
   ]
  },
  {
   "cell_type": "code",
   "execution_count": 4,
   "metadata": {},
   "outputs": [
    {
     "data": {
      "application/vnd.jupyter.widget-view+json": {
       "model_id": "ef480dd42416426c92aac8b96699da2a",
       "version_major": 2,
       "version_minor": 0
      },
      "text/plain": [
       "Widget(value='<iframe src=\"http://localhost:43643/index.html?ui=P_0x7637bd313d00_2&reconnect=auto\" class=\"pyvi…"
      ]
     },
     "metadata": {},
     "output_type": "display_data"
    }
   ],
   "source": [
    "mesh.plot(color='tan', show_axes=True, show_bounds=True)"
   ]
  },
  {
   "cell_type": "code",
   "execution_count": 5,
   "metadata": {},
   "outputs": [
    {
     "data": {
      "application/vnd.jupyter.widget-view+json": {
       "model_id": "2ccb0417003d4c8f8b9a95f8fc33fd24",
       "version_major": 2,
       "version_minor": 0
      },
      "text/plain": [
       "Widget(value='<iframe src=\"http://localhost:43643/index.html?ui=P_0x7637f6412b90_3&reconnect=auto\" class=\"pyvi…"
      ]
     },
     "metadata": {},
     "output_type": "display_data"
    }
   ],
   "source": [
    "import numpy as np\n",
    "scalar_key = 'fake_point_values'\n",
    "mesh.point_data[scalar_key] = np.arange(mesh.n_points, dtype=float)\n",
    "mesh.plot(scalars=scalar_key, show_edges=True)"
   ]
  },
  {
   "cell_type": "code",
   "execution_count": 6,
   "metadata": {},
   "outputs": [
    {
     "data": {
      "application/vnd.jupyter.widget-view+json": {
       "model_id": "19547e367e7a4d82bc87b482a2852b1b",
       "version_major": 2,
       "version_minor": 0
      },
      "text/plain": [
       "Widget(value='<iframe src=\"http://localhost:43643/index.html?ui=P_0x7637f6ea9960_4&reconnect=auto\" class=\"pyvi…"
      ]
     },
     "metadata": {},
     "output_type": "display_data"
    }
   ],
   "source": [
    "cell_key = 'fake_cell_values'\n",
    "mesh.cell_data[cell_key] = np.arange(mesh.n_cells, dtype=float)\n",
    "mesh.plot(scalars=cell_key, show_edges=True)"
   ]
  },
  {
   "cell_type": "code",
   "execution_count": 7,
   "metadata": {},
   "outputs": [
    {
     "data": {
      "application/vnd.jupyter.widget-view+json": {
       "model_id": "72d5815067144b33ad0798f90cce50fb",
       "version_major": 2,
       "version_minor": 0
      },
      "text/plain": [
       "Widget(value='<iframe src=\"http://localhost:43643/index.html?ui=P_0x7637bd252080_5&reconnect=auto\" class=\"pyvi…"
      ]
     },
     "metadata": {},
     "output_type": "display_data"
    }
   ],
   "source": [
    "edges = mesh.extract_feature_edges(\n",
    "    boundary_edges=False, non_manifold_edges=False, feature_angle=30, manifold_edges=False\n",
    ")\n",
    "edges.plot(color='k')"
   ]
  }
 ],
 "metadata": {
  "kernelspec": {
   "display_name": ".venv",
   "language": "python",
   "name": "python3"
  },
  "language_info": {
   "codemirror_mode": {
    "name": "ipython",
    "version": 3
   },
   "file_extension": ".py",
   "mimetype": "text/x-python",
   "name": "python",
   "nbconvert_exporter": "python",
   "pygments_lexer": "ipython3",
   "version": "3.10.15"
  }
 },
 "nbformat": 4,
 "nbformat_minor": 4
}
