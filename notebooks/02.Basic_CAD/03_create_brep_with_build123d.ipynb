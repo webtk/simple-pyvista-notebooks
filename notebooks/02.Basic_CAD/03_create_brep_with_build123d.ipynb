{
 "cells": [
  {
   "cell_type": "markdown",
   "id": "088db6f0",
   "metadata": {},
   "source": [
    "# Create B-Rep with build123d\n",
    " - build123d 는 CAD 연산 기능을 담은 python 모듈"
   ]
  },
  {
   "cell_type": "code",
   "execution_count": 1,
   "id": "c6b5fb15",
   "metadata": {},
   "outputs": [
    {
     "name": "stdout",
     "output_type": "stream",
     "text": [
      "+\n"
     ]
    }
   ],
   "source": [
    "from build123d import *\n",
    "# from jupyter_cadquery import show\n",
    "from ocp_vscode import*\n",
    "set_port(3939)\n",
    "\n",
    "# [Parameters]\n",
    "pcb_length = 70 * MM\n",
    "pcb_width = 30 * MM\n",
    "pcb_height = 3 * MM\n",
    "\n",
    "# [Code]\n",
    "with BuildPart() as pcb:\n",
    "    with BuildSketch():\n",
    "        Rectangle(pcb_length, pcb_width)\n",
    "\n",
    "        for i in range(65 // 5):\n",
    "            x = i * 5 - 30\n",
    "            with Locations((x, -15), (x, -10), (x, 10), (x, 15)):\n",
    "                Circle(1, mode=Mode.SUBTRACT)\n",
    "        for i in range(30 // 5 - 1):\n",
    "            y = i * 5 - 10\n",
    "            with Locations((30, y), (35, y)):\n",
    "                Circle(1, mode=Mode.SUBTRACT)\n",
    "        with GridLocations(60, 20, 2, 2):\n",
    "            Circle(2, mode=Mode.SUBTRACT)\n",
    "    extrude(amount=pcb_height)\n",
    "\n",
    "show(pcb)"
   ]
  },
  {
   "cell_type": "code",
   "execution_count": 2,
   "id": "8b02cbad",
   "metadata": {},
   "outputs": [],
   "source": [
    "from cadquery import exporters\n",
    "\n",
    "exporters.export(pcb.part, \"../../data/fixed.step\")\n",
    "exporters.export(pcb.part, \"../../data/fixed.brep\")"
   ]
  }
 ],
 "metadata": {
  "kernelspec": {
   "display_name": "webtk_pvn_dev",
   "language": "python",
   "name": "python3"
  },
  "language_info": {
   "codemirror_mode": {
    "name": "ipython",
    "version": 3
   },
   "file_extension": ".py",
   "mimetype": "text/x-python",
   "name": "python",
   "nbconvert_exporter": "python",
   "pygments_lexer": "ipython3",
   "version": "3.10.16"
  }
 },
 "nbformat": 4,
 "nbformat_minor": 5
}
