{
 "cells": [
  {
   "cell_type": "markdown",
   "id": "a8d17341",
   "metadata": {},
   "source": [
    "# CadQuery 를 사용하여 CAD 객체 만들기"
   ]
  },
  {
   "cell_type": "code",
   "execution_count": 1,
   "id": "d38e41c1",
   "metadata": {},
   "outputs": [
    {
     "name": "stdout",
     "output_type": "stream",
     "text": [
      "Overwriting auto display for cadquery Workplane and Shape\n",
      "Overwriting auto display for build123d BuildPart, BuildSketch, BuildLine, ShapeList\n",
      "+\n"
     ]
    },
    {
     "data": {
      "application/vnd.jupyter.widget-view+json": {
       "model_id": "12183d762ed34f278416e3e052e50f60",
       "version_major": 2,
       "version_minor": 0
      },
      "text/plain": [
       "CadViewerWidget(anchor=None, aspect_ratio=0.75, cad_width=800, control='trackball', glass=True, height=600, id…"
      ]
     },
     "metadata": {},
     "output_type": "display_data"
    },
    {
     "data": {
      "text/html": [
       "<div></div>"
      ],
      "text/plain": [
       "<IPython.core.display.HTML object>"
      ]
     },
     "metadata": {},
     "output_type": "display_data"
    },
    {
     "data": {
      "text/plain": [
       "<cad_viewer_widget.widget.CadViewer at 0x75948f9fd780>"
      ]
     },
     "execution_count": 1,
     "metadata": {},
     "output_type": "execute_result"
    }
   ],
   "source": [
    "import cadquery as cq\n",
    "from jupyter_cadquery import show\n",
    "\n",
    "# These can be modified rather than hardcoding values for each dimension.\n",
    "length = 80.0  # Length of the block\n",
    "height = 60.0  # Height of the block\n",
    "thickness = 10.0  # Thickness of the block\n",
    "\n",
    "# Create a 3D block based on the dimension variables above.\n",
    "# 1.  Establishes a workplane that an object can be built on.\n",
    "# 1a. Uses the X and Y origins to define the workplane, meaning that the\n",
    "# positive Z direction is \"up\", and the negative Z direction is \"down\".\n",
    "result = cq.Workplane(\"XY\").box(length, height, thickness)\n",
    "\n",
    "# The following method is now outdated, but can still be used to display the\n",
    "# results of the script if you want\n",
    "# from Helpers import show\n",
    "show(result)"
   ]
  },
  {
   "cell_type": "code",
   "execution_count": 2,
   "id": "5177a42f",
   "metadata": {},
   "outputs": [
    {
     "name": "stdout",
     "output_type": "stream",
     "text": [
      "+\n"
     ]
    },
    {
     "data": {
      "application/vnd.jupyter.widget-view+json": {
       "model_id": "1a96eeb78e454f2a86806a48e4edda73",
       "version_major": 2,
       "version_minor": 0
      },
      "text/plain": [
       "CadViewerWidget(anchor=None, aspect_ratio=0.75, cad_width=800, control='trackball', glass=True, height=600, id…"
      ]
     },
     "metadata": {},
     "output_type": "display_data"
    },
    {
     "data": {
      "text/html": [
       "<div></div>"
      ],
      "text/plain": [
       "<IPython.core.display.HTML object>"
      ]
     },
     "metadata": {},
     "output_type": "display_data"
    },
    {
     "data": {
      "text/plain": [
       "<cad_viewer_widget.widget.CadViewer at 0x7595499b8400>"
      ]
     },
     "execution_count": 2,
     "metadata": {},
     "output_type": "execute_result"
    }
   ],
   "source": [
    "b = result.fillet(0.9)\n",
    "show(b)"
   ]
  }
 ],
 "metadata": {
  "kernelspec": {
   "display_name": "webtk_pvn_310",
   "language": "python",
   "name": "python3"
  },
  "language_info": {
   "codemirror_mode": {
    "name": "ipython",
    "version": 3
   },
   "file_extension": ".py",
   "mimetype": "text/x-python",
   "name": "python",
   "nbconvert_exporter": "python",
   "pygments_lexer": "ipython3",
   "version": "3.10.13"
  }
 },
 "nbformat": 4,
 "nbformat_minor": 5
}
