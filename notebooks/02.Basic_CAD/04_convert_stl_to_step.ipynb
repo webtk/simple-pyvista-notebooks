{
 "cells": [
  {
   "cell_type": "code",
   "execution_count": 1,
   "id": "dc3f2cbb",
   "metadata": {},
   "outputs": [
    {
     "data": {
      "text/html": [
       "\n",
       "<table style='width: 100%;'>\n",
       "<tr><th>PolyData</th><th>Information</th></tr>\n",
       "<tr><td>N Cells</td><td>35750</td></tr>\n",
       "<tr><td>N Points</td><td>17859</td></tr>\n",
       "<tr><td>N Strips</td><td>0</td></tr>\n",
       "<tr><td>X Bounds</td><td>-3.881e+01, 6.821e+01</td></tr>\n",
       "<tr><td>Y Bounds</td><td>-1.608e+02, 1.780e+01</td></tr>\n",
       "<tr><td>Z Bounds</td><td>2.534e-01, 6.527e+01</td></tr>\n",
       "<tr><td>N Arrays</td><td>0</td></tr>\n",
       "</table>\n",
       "\n"
      ],
      "text/plain": [
       "PolyData (0x7d92fd54b460)\n",
       "  N Cells:    35750\n",
       "  N Points:   17859\n",
       "  N Strips:   0\n",
       "  X Bounds:   -3.881e+01, 6.821e+01\n",
       "  Y Bounds:   -1.608e+02, 1.780e+01\n",
       "  Z Bounds:   2.534e-01, 6.527e+01\n",
       "  N Arrays:   0"
      ]
     },
     "execution_count": 1,
     "metadata": {},
     "output_type": "execute_result"
    }
   ],
   "source": [
    "import pyvista as pv\n",
    "\n",
    "mesh = pv.read('../../data/10_30.stl')\n",
    "mesh"
   ]
  },
  {
   "cell_type": "code",
   "execution_count": 2,
   "id": "6fc7d8d2",
   "metadata": {},
   "outputs": [
    {
     "data": {
      "text/html": [
       "\n",
       "<table style='width: 100%;'>\n",
       "<tr><th>PolyData</th><th>Information</th></tr>\n",
       "<tr><td>N Cells</td><td>3574</td></tr>\n",
       "<tr><td>N Points</td><td>1771</td></tr>\n",
       "<tr><td>N Strips</td><td>0</td></tr>\n",
       "<tr><td>X Bounds</td><td>-3.871e+01, 6.816e+01</td></tr>\n",
       "<tr><td>Y Bounds</td><td>-1.607e+02, 1.756e+01</td></tr>\n",
       "<tr><td>Z Bounds</td><td>2.645e-01, 6.523e+01</td></tr>\n",
       "<tr><td>N Arrays</td><td>0</td></tr>\n",
       "</table>\n",
       "\n"
      ],
      "text/plain": [
       "PolyData (0x7d92fd54b5e0)\n",
       "  N Cells:    3574\n",
       "  N Points:   1771\n",
       "  N Strips:   0\n",
       "  X Bounds:   -3.871e+01, 6.816e+01\n",
       "  Y Bounds:   -1.607e+02, 1.756e+01\n",
       "  Z Bounds:   2.645e-01, 6.523e+01\n",
       "  N Arrays:   0"
      ]
     },
     "execution_count": 2,
     "metadata": {},
     "output_type": "execute_result"
    }
   ],
   "source": [
    "decimated_mesh = mesh.decimate_pro(0.9)\n",
    "decimated_mesh"
   ]
  },
  {
   "cell_type": "code",
   "execution_count": 3,
   "id": "2c539272",
   "metadata": {},
   "outputs": [],
   "source": [
    "from pvn.cq_utils import pyvista_to_cadquery_solid\n",
    "\n",
    "# 이 작업은 mesh의 cell이 많은 경우 오래 걸림\n",
    "cq_solid = pyvista_to_cadquery_solid(mesh)"
   ]
  },
  {
   "cell_type": "code",
   "execution_count": 4,
   "id": "610660a4",
   "metadata": {},
   "outputs": [],
   "source": [
    "from pvn.cq_utils import export_cq_shape_to_step\n",
    "# Solid를 파일로 저장(STEP)\n",
    "# 파일이 매우 클 수 있음(수십MB)\n",
    "export_cq_shape_to_step(cq_solid, \"../../data/10_30.step\")"
   ]
  },
  {
   "cell_type": "code",
   "execution_count": 5,
   "id": "76f5265a",
   "metadata": {},
   "outputs": [
    {
     "name": "stdout",
     "output_type": "stream",
     "text": [
      "+\n"
     ]
    }
   ],
   "source": [
    "#from jupyter_cadquery import show\n",
    "from ocp_vscode import *\n",
    "set_port(3939)\n",
    "show(cq_solid)"
   ]
  }
 ],
 "metadata": {
  "kernelspec": {
   "display_name": "webtk_pvn_dev",
   "language": "python",
   "name": "python3"
  },
  "language_info": {
   "codemirror_mode": {
    "name": "ipython",
    "version": 3
   },
   "file_extension": ".py",
   "mimetype": "text/x-python",
   "name": "python",
   "nbconvert_exporter": "python",
   "pygments_lexer": "ipython3",
   "version": "3.10.16"
  }
 },
 "nbformat": 4,
 "nbformat_minor": 5
}
