{
 "cells": [
  {
   "cell_type": "markdown",
   "id": "a8d17341",
   "metadata": {},
   "source": [
    "# CadQuery 를 사용하여 CAD 객체 만들기"
   ]
  },
  {
   "cell_type": "code",
   "execution_count": 1,
   "id": "d38e41c1",
   "metadata": {},
   "outputs": [
    {
     "name": "stdout",
     "output_type": "stream",
     "text": [
      "+\n"
     ]
    }
   ],
   "source": [
    "import cadquery as cq\n",
    "# from jupyter_cadquery import show\n",
    "from ocp_vscode import *\n",
    "set_port(3939)\n",
    "\n",
    "# These can be modified rather than hardcoding values for each dimension.\n",
    "length = 80.0  # Length of the block\n",
    "height = 60.0  # Height of the block\n",
    "thickness = 10.0  # Thickness of the block\n",
    "\n",
    "# Create a 3D block based on the dimension variables above.\n",
    "# 1.  Establishes a workplane that an object can be built on.\n",
    "# 1a. Uses the X and Y origins to define the workplane, meaning that the\n",
    "# positive Z direction is \"up\", and the negative Z direction is \"down\".\n",
    "result = cq.Workplane(\"XY\").box(length, height, thickness)\n",
    "\n",
    "# The following method is now outdated, but can still be used to display the\n",
    "# results of the script if you want\n",
    "# from Helpers import show\n",
    "show(result)"
   ]
  },
  {
   "cell_type": "code",
   "execution_count": 2,
   "id": "5177a42f",
   "metadata": {},
   "outputs": [
    {
     "name": "stdout",
     "output_type": "stream",
     "text": [
      "+\n"
     ]
    }
   ],
   "source": [
    "b = result.fillet(0.9)\n",
    "show(b)"
   ]
  }
 ],
 "metadata": {
  "kernelspec": {
   "display_name": "webtk_pvn_dev",
   "language": "python",
   "name": "python3"
  },
  "language_info": {
   "codemirror_mode": {
    "name": "ipython",
    "version": 3
   },
   "file_extension": ".py",
   "mimetype": "text/x-python",
   "name": "python",
   "nbconvert_exporter": "python",
   "pygments_lexer": "ipython3",
   "version": "3.10.16"
  }
 },
 "nbformat": 4,
 "nbformat_minor": 5
}
