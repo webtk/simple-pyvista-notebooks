{
 "cells": [
  {
   "cell_type": "code",
   "execution_count": 1,
   "metadata": {},
   "outputs": [],
   "source": [
    "import pyvista as pv\n",
    "import numpy as np"
   ]
  },
  {
   "cell_type": "code",
   "execution_count": 2,
   "metadata": {},
   "outputs": [],
   "source": [
    "pv.global_theme.jupyter_backend = 'client'\n",
    "pv.start_xvfb()"
   ]
  },
  {
   "cell_type": "code",
   "execution_count": 14,
   "metadata": {},
   "outputs": [
    {
     "data": {
      "application/vnd.jupyter.widget-view+json": {
       "model_id": "8d3e6769a3504d23b9bbf171e77abdc9",
       "version_major": 2,
       "version_minor": 0
      },
      "text/plain": [
       "Widget(value='<iframe src=\"http://localhost:44415/index.html?ui=P_0x7fc26c5a1b70_9&reconnect=auto\" class=\"pyvi…"
      ]
     },
     "metadata": {},
     "output_type": "display_data"
    }
   ],
   "source": [
    "points = np.array([\n",
    "    [0.5, 0.0, 0.0],\n",
    "    [1.0, 0.0, 0.0],\n",
    "    [1.0, 1.0, 0.0],\n",
    "    [0.5, 1.0, 0.0],\n",
    "])\n",
    "\n",
    "# 2) faces 배열 정의\n",
    "#    첫 원소 '4'는 꼭짓점 개수, 그 뒤로 점 인덱스\n",
    "faces = np.hstack([[4, 0, 1, 2, 3]])\n",
    "\n",
    "# 3) PolyData 생성\n",
    "square = pv.PolyData(points, faces)\n",
    "square.translate((0, 0, 0.2), inplace=True)\n",
    "square.plot(show_edges=True)"
   ]
  },
  {
   "cell_type": "code",
   "execution_count": 4,
   "metadata": {},
   "outputs": [
    {
     "name": "stdout",
     "output_type": "stream",
     "text": [
      "Help on method reflect in module pyvista.core.filters.data_set:\n",
      "\n",
      "reflect(normal, point=None, inplace=False, transform_all_input_vectors=False, progress_bar=False) method of pyvista.core.pointset.PolyData instance\n",
      "    Reflect a dataset across a plane.\n",
      "    \n",
      "    Parameters\n",
      "    ----------\n",
      "    normal : array_like[float]\n",
      "        Normal direction for reflection.\n",
      "    \n",
      "    point : array_like[float]\n",
      "        Point which, along with ``normal``, defines the reflection\n",
      "        plane. If not specified, this is the origin.\n",
      "    \n",
      "    inplace : bool, default: False\n",
      "        When ``True``, modifies the dataset inplace.\n",
      "    \n",
      "    transform_all_input_vectors : bool, default: False\n",
      "        When ``True``, all input vectors are transformed. Otherwise,\n",
      "        only the points, normals and active vectors are transformed.\n",
      "    \n",
      "    progress_bar : bool, default: False\n",
      "        Display a progress bar to indicate progress.\n",
      "    \n",
      "    Returns\n",
      "    -------\n",
      "    pyvista.DataSet\n",
      "        Reflected dataset.  Return type matches input.\n",
      "    \n",
      "    Examples\n",
      "    --------\n",
      "    >>> from pyvista import examples\n",
      "    >>> mesh = examples.load_airplane()\n",
      "    >>> mesh = mesh.reflect((0, 0, 1), point=(0, 0, -100))\n",
      "    >>> mesh.plot(show_edges=True)\n",
      "    \n",
      "    See the :ref:`reflect_example` for more examples using this filter.\n",
      "\n"
     ]
    }
   ],
   "source": [
    "help(square.reflect)"
   ]
  },
  {
   "cell_type": "code",
   "execution_count": 15,
   "metadata": {},
   "outputs": [
    {
     "data": {
      "application/vnd.jupyter.widget-view+json": {
       "model_id": "4cbaac3e3d8d45d6a811518d55610eba",
       "version_major": 2,
       "version_minor": 0
      },
      "text/plain": [
       "Widget(value='<iframe src=\"http://localhost:44415/index.html?ui=P_0x7fc26c5a3d90_10&reconnect=auto\" class=\"pyv…"
      ]
     },
     "metadata": {},
     "output_type": "display_data"
    }
   ],
   "source": [
    "# reflect\n",
    "shadow = square.reflect(normal=(0,0,1), inplace=False)\n",
    "\n",
    "plotter = pv.Plotter()\n",
    "plotter.add_mesh(square, color='blue', show_edges=True, label='Original')\n",
    "plotter.add_mesh(shadow, color='black', show_edges=False, label='Reflected')\n",
    "plotter.add_legend()\n",
    "plotter.show()"
   ]
  }
 ],
 "metadata": {
  "kernelspec": {
   "display_name": ".venv",
   "language": "python",
   "name": "python3"
  },
  "language_info": {
   "codemirror_mode": {
    "name": "ipython",
    "version": 3
   },
   "file_extension": ".py",
   "mimetype": "text/x-python",
   "name": "python",
   "nbconvert_exporter": "python",
   "pygments_lexer": "ipython3",
   "version": "3.10.15"
  }
 },
 "nbformat": 4,
 "nbformat_minor": 2
}
